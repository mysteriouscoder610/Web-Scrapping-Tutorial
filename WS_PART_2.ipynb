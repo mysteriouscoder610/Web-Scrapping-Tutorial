{
  "nbformat": 4,
  "nbformat_minor": 0,
  "metadata": {
    "colab": {
      "provenance": []
    },
    "kernelspec": {
      "name": "python3",
      "display_name": "Python 3"
    },
    "language_info": {
      "name": "python"
    }
  },
  "cells": [
    {
      "cell_type": "code",
      "execution_count": 1,
      "metadata": {
        "id": "sqnZv36Rg1_d"
      },
      "outputs": [],
      "source": [
        "import requests\n",
        "from bs4 import BeautifulSoup"
      ]
    },
    {
      "cell_type": "code",
      "source": [
        "web=requests.get(\"https://www.tutorialsfreak.com/\")"
      ],
      "metadata": {
        "id": "9QsHep2Kg9w4"
      },
      "execution_count": 2,
      "outputs": []
    },
    {
      "cell_type": "code",
      "source": [
        "soup=BeautifulSoup(web.content,\"html.parser\")"
      ],
      "metadata": {
        "id": "iMpWgAsWhHfV"
      },
      "execution_count": 3,
      "outputs": []
    },
    {
      "cell_type": "markdown",
      "source": [
        "# TAG"
      ],
      "metadata": {
        "id": "vVSLn8B4hQUN"
      }
    },
    {
      "cell_type": "code",
      "source": [
        "tag = soup.html"
      ],
      "metadata": {
        "id": "SUSjaVEIhPoV"
      },
      "execution_count": 4,
      "outputs": []
    },
    {
      "cell_type": "code",
      "source": [
        "type(tag)"
      ],
      "metadata": {
        "colab": {
          "base_uri": "https://localhost:8080/",
          "height": 238
        },
        "id": "-WBi2aN4hUE8",
        "outputId": "2dd16384-3adf-4c45-ee5f-3506db110c40"
      },
      "execution_count": 6,
      "outputs": [
        {
          "output_type": "execute_result",
          "data": {
            "text/plain": [
              "bs4.element.Tag"
            ],
            "text/html": [
              "<div style=\"max-width:800px; border: 1px solid var(--colab-border-color);\"><style>\n",
              "      pre.function-repr-contents {\n",
              "        overflow-x: auto;\n",
              "        padding: 8px 12px;\n",
              "        max-height: 500px;\n",
              "      }\n",
              "\n",
              "      pre.function-repr-contents.function-repr-contents-collapsed {\n",
              "        cursor: pointer;\n",
              "        max-height: 100px;\n",
              "      }\n",
              "    </style>\n",
              "    <pre style=\"white-space: initial; background:\n",
              "         var(--colab-secondary-surface-color); padding: 8px 12px;\n",
              "         border-bottom: 1px solid var(--colab-border-color);\"><b>bs4.element.Tag</b><br/>def __call__(name: Optional[_StrainableElement]=None, attrs: _StrainableAttributes={}, recursive: bool=True, string: Optional[_StrainableString]=None, limit: Optional[int]=None, _stacklevel: int=2, **kwargs: _StrainableAttribute) -&gt; _QueryResults</pre><pre class=\"function-repr-contents function-repr-contents-collapsed\" style=\"\"><a class=\"filepath\" style=\"display:none\" href=\"#\">/usr/local/lib/python3.11/dist-packages/bs4/element.py</a>An HTML or XML tag that is part of a parse tree, along with its\n",
              "attributes, contents, and relationships to other parts of the tree.\n",
              "\n",
              "When Beautiful Soup parses the markup ``&lt;b&gt;penguin&lt;/b&gt;``, it will\n",
              "create a `Tag` object representing the ``&lt;b&gt;`` tag. You can\n",
              "instantiate `Tag` objects directly, but it&#x27;s not necessary unless\n",
              "you&#x27;re adding entirely new markup to a parsed document. Most of\n",
              "the constructor arguments are intended for use by the `TreeBuilder`\n",
              "that&#x27;s parsing a document.\n",
              "\n",
              ":param parser: A `BeautifulSoup` object representing the parse tree this\n",
              "    `Tag` will be part of.\n",
              ":param builder: The `TreeBuilder` being used to build the tree.\n",
              ":param name: The name of the tag.\n",
              ":param namespace: The URI of this tag&#x27;s XML namespace, if any.\n",
              ":param prefix: The prefix for this tag&#x27;s XML namespace, if any.\n",
              ":param attrs: A dictionary of attribute values.\n",
              ":param parent: The `Tag` to use as the parent of this `Tag`. May be\n",
              "   the `BeautifulSoup` object itself.\n",
              ":param previous: The `PageElement` that was parsed immediately before\n",
              "    parsing this tag.\n",
              ":param is_xml: If True, this is an XML tag. Otherwise, this is an\n",
              "    HTML tag.\n",
              ":param sourceline: The line number where this tag was found in its\n",
              "    source document.\n",
              ":param sourcepos: The character position within ``sourceline`` where this\n",
              "    tag was found.\n",
              ":param can_be_empty_element: If True, this tag should be\n",
              "    represented as &lt;tag/&gt;. If False, this tag should be represented\n",
              "    as &lt;tag&gt;&lt;/tag&gt;.\n",
              ":param cdata_list_attributes: A dictionary of attributes whose values should\n",
              "    be parsed as lists of strings if they ever show up on this tag.\n",
              ":param preserve_whitespace_tags: Names of tags whose contents\n",
              "    should have their whitespace preserved if they are encountered inside\n",
              "    this tag.\n",
              ":param interesting_string_types: When iterating over this tag&#x27;s\n",
              "    string contents in methods like `Tag.strings` or\n",
              "    `PageElement.get_text`, these are the types of strings that are\n",
              "    interesting enough to be considered. By default,\n",
              "    `NavigableString` (normal strings) and `CData` (CDATA\n",
              "    sections) are the only interesting string subtypes.\n",
              ":param namespaces: A dictionary mapping currently active\n",
              "    namespace prefixes to URIs, as of the point in the parsing process when\n",
              "    this tag was encountered. This can be used later to\n",
              "    construct CSS selectors.</pre>\n",
              "      <script>\n",
              "      if (google.colab.kernel.accessAllowed && google.colab.files && google.colab.files.view) {\n",
              "        for (const element of document.querySelectorAll('.filepath')) {\n",
              "          element.style.display = 'block'\n",
              "          element.onclick = (event) => {\n",
              "            event.preventDefault();\n",
              "            event.stopPropagation();\n",
              "            google.colab.files.view(element.textContent, 1577);\n",
              "          };\n",
              "        }\n",
              "      }\n",
              "      for (const element of document.querySelectorAll('.function-repr-contents')) {\n",
              "        element.onclick = (event) => {\n",
              "          event.preventDefault();\n",
              "          event.stopPropagation();\n",
              "          element.classList.toggle('function-repr-contents-collapsed');\n",
              "        };\n",
              "      }\n",
              "      </script>\n",
              "      </div>"
            ]
          },
          "metadata": {},
          "execution_count": 6
        }
      ]
    },
    {
      "cell_type": "code",
      "source": [
        "tag1 = soup.p\n",
        "tag1"
      ],
      "metadata": {
        "colab": {
          "base_uri": "https://localhost:8080/"
        },
        "id": "qVO8ivbmhWNy",
        "outputId": "82b8eeac-c26a-4112-a0e2-6c02d1bbec67"
      },
      "execution_count": 8,
      "outputs": [
        {
          "output_type": "execute_result",
          "data": {
            "text/plain": [
              "<p class=\"section-subheading\">Kickstart effective learning with Tutorials Freak, with new content published every day.</p>"
            ]
          },
          "metadata": {},
          "execution_count": 8
        }
      ]
    },
    {
      "cell_type": "code",
      "source": [
        "tag2 = soup.h1\n",
        "tag2"
      ],
      "metadata": {
        "colab": {
          "base_uri": "https://localhost:8080/"
        },
        "id": "MmR2mrDghe6V",
        "outputId": "01382c7e-e190-44a0-d990-823661bfc414"
      },
      "execution_count": 9,
      "outputs": [
        {
          "output_type": "execute_result",
          "data": {
            "text/plain": [
              "<h1 class=\"main-heading my-3\">High-Quality, Practical-based, Free Tutorials</h1>"
            ]
          },
          "metadata": {},
          "execution_count": 9
        }
      ]
    },
    {
      "cell_type": "code",
      "source": [
        "tag3 = soup.h2\n",
        "tag3"
      ],
      "metadata": {
        "colab": {
          "base_uri": "https://localhost:8080/"
        },
        "id": "4EE89fr9hqsH",
        "outputId": "e3dd81d3-dae8-4e61-fd5f-937457e05e5a"
      },
      "execution_count": 10,
      "outputs": [
        {
          "output_type": "execute_result",
          "data": {
            "text/plain": [
              "<h2 class=\"section-heading my-2\">Most Popular Tutorials</h2>"
            ]
          },
          "metadata": {},
          "execution_count": 10
        }
      ]
    },
    {
      "cell_type": "markdown",
      "source": [
        "# NAVIGABLE STRING"
      ],
      "metadata": {
        "id": "V8wQQnReh2U-"
      }
    },
    {
      "cell_type": "code",
      "source": [
        "tag = soup.p.string\n",
        "tag"
      ],
      "metadata": {
        "colab": {
          "base_uri": "https://localhost:8080/",
          "height": 53
        },
        "id": "95hBmh2Hhtid",
        "outputId": "90cd3443-de60-4e20-e6ab-f29809d0d78d"
      },
      "execution_count": 11,
      "outputs": [
        {
          "output_type": "execute_result",
          "data": {
            "text/plain": [
              "'Kickstart effective learning with Tutorials Freak, with new content published every day.'"
            ],
            "application/vnd.google.colaboratory.intrinsic+json": {
              "type": "string"
            }
          },
          "metadata": {},
          "execution_count": 11
        }
      ]
    },
    {
      "cell_type": "code",
      "source": [
        "tag1=soup.h1.string\n",
        "tag1"
      ],
      "metadata": {
        "colab": {
          "base_uri": "https://localhost:8080/",
          "height": 36
        },
        "id": "A0cgI8kmh-32",
        "outputId": "d87008e9-fa95-4852-84b7-24bdda477cea"
      },
      "execution_count": 12,
      "outputs": [
        {
          "output_type": "execute_result",
          "data": {
            "text/plain": [
              "'High-Quality, Practical-based, Free Tutorials'"
            ],
            "application/vnd.google.colaboratory.intrinsic+json": {
              "type": "string"
            }
          },
          "metadata": {},
          "execution_count": 12
        }
      ]
    },
    {
      "cell_type": "markdown",
      "source": [
        "# BEAUTIFUL SOUP"
      ],
      "metadata": {
        "id": "ydfPESujiIcJ"
      }
    },
    {
      "cell_type": "code",
      "source": [
        "soup.name"
      ],
      "metadata": {
        "colab": {
          "base_uri": "https://localhost:8080/",
          "height": 36
        },
        "id": "aaJooIaoiCtx",
        "outputId": "fa2e1c47-9d25-43b2-ff5d-16abc11df0dc"
      },
      "execution_count": 13,
      "outputs": [
        {
          "output_type": "execute_result",
          "data": {
            "text/plain": [
              "'[document]'"
            ],
            "application/vnd.google.colaboratory.intrinsic+json": {
              "type": "string"
            }
          },
          "metadata": {},
          "execution_count": 13
        }
      ]
    },
    {
      "cell_type": "code",
      "source": [
        "soup.find(\"h1\")"
      ],
      "metadata": {
        "colab": {
          "base_uri": "https://localhost:8080/"
        },
        "id": "gB7xshi3iPEI",
        "outputId": "e187498b-21df-4488-ade2-d7b058528c4b"
      },
      "execution_count": 14,
      "outputs": [
        {
          "output_type": "execute_result",
          "data": {
            "text/plain": [
              "<h1 class=\"main-heading my-3\">High-Quality, Practical-based, Free Tutorials</h1>"
            ]
          },
          "metadata": {},
          "execution_count": 14
        }
      ]
    },
    {
      "cell_type": "code",
      "source": [
        "soup.find_all(\"p\")"
      ],
      "metadata": {
        "colab": {
          "base_uri": "https://localhost:8080/"
        },
        "id": "gPOZ823nia5z",
        "outputId": "b5444996-7779-4548-c62e-251df9319a63"
      },
      "execution_count": 18,
      "outputs": [
        {
          "output_type": "execute_result",
          "data": {
            "text/plain": [
              "[<p class=\"section-subheading\">Kickstart effective learning with Tutorials Freak, with new content published every day.</p>,\n",
              " <p class=\"fs-16 fw-400 lh-24 label-color-1 card-text\">The entire content on the site is verified by pro developers and tech freaks.</p>,\n",
              " <p class=\"fs-16 fw-400 lh-24 label-color-1 card-text\">The entire content on the site is verified by pro developers and tech freaks. Enabling self-directed learning so that you can learn at your pace and shape your own path.</p>,\n",
              " <p class=\"fs-16 fw-400 lh-24 label-color-1 card-text\">Along with simplified tutorials, you get video content created by industry experts.</p>,\n",
              " <p class=\"fw-400 fs-20 lh-30 label-color-2 mb-lg-5\">Learning programming and technical things can be complex. We are here to make it easy with simple and interactive tutorials.</p>,\n",
              " <p class=\"section-subheading mb-0\">Learning programming and technical things can be complex. We are here to make it easy with simple and interactive tutorials.</p>,\n",
              " <p class=\"section-subheading mb-0\">Explore the expert-curated interview questions with answers.</p>,\n",
              " <p class=\"section-subheading mb-0\">Plenty of quizzes with time duration and skill assessment.</p>,\n",
              " <p class=\"section-subheading mb-0\">Find coding examples with programs, output, easy explanations, and videos.</p>,\n",
              " <p class=\"section-subheading mb-0\"><img class=\"img-fluid\" height=\"40\" src=\"/images/ws-cube-tech-logo.svg\" width=\"210\"/></p>,\n",
              " <p class=\"section-subheading pb-lg-5\">With an account, you get access to premium content and courses at no cost.</p>,\n",
              " <p class=\"section-subheading pe-md-5\">Download the app now to learn and practice hassle-free.</p>,\n",
              " <p class=\"fs-13 lh-24 label-color-1 mb-0 footer-content fw-500 text-center text-lg-end\">© <!-- --> Tutorials Freak . All Rights Reserved | Design By  <a class=\"text-decoration-none label-color-1 fw-400\" href=\"https://www.wscubetech.com/\" rel=\"noreferrer\" target=\"_blank\" title=\"WsCube Tech\">WsCube Tech</a></p>]"
            ]
          },
          "metadata": {},
          "execution_count": 18
        }
      ]
    },
    {
      "cell_type": "markdown",
      "source": [
        "# COMMENTS"
      ],
      "metadata": {
        "id": "dYLTIbBZitNs"
      }
    },
    {
      "cell_type": "code",
      "source": [
        "com=soup.p.string"
      ],
      "metadata": {
        "id": "BdqhfLE2id0m"
      },
      "execution_count": 19,
      "outputs": []
    },
    {
      "cell_type": "code",
      "source": [
        "com"
      ],
      "metadata": {
        "colab": {
          "base_uri": "https://localhost:8080/",
          "height": 53
        },
        "id": "QxP-kLyisBGg",
        "outputId": "0b9b79b9-efd5-43b6-de6e-e68750c43efa"
      },
      "execution_count": 20,
      "outputs": [
        {
          "output_type": "execute_result",
          "data": {
            "text/plain": [
              "'Kickstart effective learning with Tutorials Freak, with new content published every day.'"
            ],
            "application/vnd.google.colaboratory.intrinsic+json": {
              "type": "string"
            }
          },
          "metadata": {},
          "execution_count": 20
        }
      ]
    },
    {
      "cell_type": "code",
      "source": [
        "soup.p.prettify"
      ],
      "metadata": {
        "colab": {
          "base_uri": "https://localhost:8080/",
          "height": 203
        },
        "id": "ZIDjHvXBsCEf",
        "outputId": "058e4ef7-c8f2-4950-fe56-cc7f11962f7e"
      },
      "execution_count": 21,
      "outputs": [
        {
          "output_type": "execute_result",
          "data": {
            "text/plain": [
              "<bound method Tag.prettify of <p class=\"section-subheading\">Kickstart effective learning with Tutorials Freak, with new content published every day.</p>>"
            ],
            "text/html": [
              "<div style=\"max-width:800px; border: 1px solid var(--colab-border-color);\"><style>\n",
              "      pre.function-repr-contents {\n",
              "        overflow-x: auto;\n",
              "        padding: 8px 12px;\n",
              "        max-height: 500px;\n",
              "      }\n",
              "\n",
              "      pre.function-repr-contents.function-repr-contents-collapsed {\n",
              "        cursor: pointer;\n",
              "        max-height: 100px;\n",
              "      }\n",
              "    </style>\n",
              "    <pre style=\"white-space: initial; background:\n",
              "         var(--colab-secondary-surface-color); padding: 8px 12px;\n",
              "         border-bottom: 1px solid var(--colab-border-color);\"><b>bs4.element.Tag.prettify</b><br/>def prettify(encoding: Optional[_Encoding]=None, formatter: _FormatterOrName=&#x27;minimal&#x27;) -&gt; Union[str, bytes]</pre><pre class=\"function-repr-contents function-repr-contents-collapsed\" style=\"\"><a class=\"filepath\" style=\"display:none\" href=\"#\">/usr/local/lib/python3.11/dist-packages/bs4/element.py</a>Pretty-print this `Tag` as a string or bytestring.\n",
              "\n",
              ":param encoding: The encoding of the bytestring, or None if you want Unicode.\n",
              ":param formatter: A Formatter object, or a string naming one of\n",
              "    the standard formatters.\n",
              ":return: A string (if no ``encoding`` is provided) or a bytestring\n",
              "    (otherwise).</pre>\n",
              "      <script>\n",
              "      if (google.colab.kernel.accessAllowed && google.colab.files && google.colab.files.view) {\n",
              "        for (const element of document.querySelectorAll('.filepath')) {\n",
              "          element.style.display = 'block'\n",
              "          element.onclick = (event) => {\n",
              "            event.preventDefault();\n",
              "            event.stopPropagation();\n",
              "            google.colab.files.view(element.textContent, 2609);\n",
              "          };\n",
              "        }\n",
              "      }\n",
              "      for (const element of document.querySelectorAll('.function-repr-contents')) {\n",
              "        element.onclick = (event) => {\n",
              "          event.preventDefault();\n",
              "          event.stopPropagation();\n",
              "          element.classList.toggle('function-repr-contents-collapsed');\n",
              "        };\n",
              "      }\n",
              "      </script>\n",
              "      </div>"
            ]
          },
          "metadata": {},
          "execution_count": 21
        }
      ]
    },
    {
      "cell_type": "markdown",
      "source": [
        "# FINDING ELEMENT IN WEB PAGE IN PYTHON"
      ],
      "metadata": {
        "id": "as-g9Iv3sm8s"
      }
    },
    {
      "cell_type": "code",
      "source": [
        "class_data = soup.find(\"div\",class_=\"content\")"
      ],
      "metadata": {
        "id": "UBdVk4ZGsqa-"
      },
      "execution_count": 28,
      "outputs": []
    },
    {
      "cell_type": "code",
      "source": [
        "class_data"
      ],
      "metadata": {
        "colab": {
          "base_uri": "https://localhost:8080/"
        },
        "id": "zk6ITTDytM-M",
        "outputId": "704ae5c0-ffd4-44cc-d4f9-7e6b679c6592"
      },
      "execution_count": 29,
      "outputs": [
        {
          "output_type": "execute_result",
          "data": {
            "text/plain": [
              "<div class=\"content\"><section class=\"banner-section position-relative w-100\"><div class=\"wrapper\"><div class=\"container\"><div class=\"justify-content-center row\"><div class=\"col-lg-10\"><div class=\"text-center banner-content-wrapper\"><div class=\"fs-16 label-color-4 bg-light-pink mx-auto fw-600 d-flex align-items-center justify-content-center text-uppercase banner-ocean\">Learn &amp; Upskill With</div><div class=\"banner-heading-wrapper\"><h1 class=\"main-heading my-3\">High-Quality, Practical-based, Free Tutorials</h1><p class=\"section-subheading\">Kickstart effective learning with Tutorials Freak, with new content published every day.</p><button class=\"fs-18 fw-600 label-color-3 btn-background\" title=\"Start Learning!\">Start Learning!</button></div><div class=\"banner-img-wrapper\"><span style=\"box-sizing:border-box;display:block;overflow:hidden;width:initial;height:initial;background:none;opacity:1;border:0;margin:0;padding:0;position:relative\"><span style=\"box-sizing:border-box;display:block;width:initial;height:initial;background:none;opacity:1;border:0;margin:0;padding:0;padding-top:52%\"></span><img alt=\"Banner-Img\" class=\"img-fluid\" data-nimg=\"responsive\" decoding=\"async\" src=\"data:image/gif;base64,R0lGODlhAQABAIAAAAAAAP///yH5BAEAAAAALAAAAAABAAEAAAIBRAA7\" style=\"position:absolute;top:0;left:0;bottom:0;right:0;box-sizing:border-box;padding:0;border:none;margin:auto;display:block;width:0;height:0;min-width:100%;max-width:100%;min-height:100%;max-height:100%\"/><noscript><img alt=\"Banner-Img\" class=\"img-fluid\" data-nimg=\"responsive\" decoding=\"async\" loading=\"lazy\" sizes=\"100vw\" src=\"/_next/image?url=%2Fimages%2Fbanner-middle.webp&amp;w=3840&amp;q=75\" srcset=\"/_next/image?url=%2Fimages%2Fbanner-middle.webp&amp;w=640&amp;q=75 640w, /_next/image?url=%2Fimages%2Fbanner-middle.webp&amp;w=750&amp;q=75 750w, /_next/image?url=%2Fimages%2Fbanner-middle.webp&amp;w=828&amp;q=75 828w, /_next/image?url=%2Fimages%2Fbanner-middle.webp&amp;w=1080&amp;q=75 1080w, /_next/image?url=%2Fimages%2Fbanner-middle.webp&amp;w=1200&amp;q=75 1200w, /_next/image?url=%2Fimages%2Fbanner-middle.webp&amp;w=1920&amp;q=75 1920w, /_next/image?url=%2Fimages%2Fbanner-middle.webp&amp;w=2048&amp;q=75 2048w, /_next/image?url=%2Fimages%2Fbanner-middle.webp&amp;w=3840&amp;q=75 3840w\" style=\"position:absolute;top:0;left:0;bottom:0;right:0;box-sizing:border-box;padding:0;border:none;margin:auto;display:block;width:0;height:0;min-width:100%;max-width:100%;min-height:100%;max-height:100%\"/></noscript></span></div></div></div></div></div><div class=\"d-md-block d-none\"><div class=\"banner-boxes kotlin-box d-flex align-items-center justify-content-center\"><a href=\"/\"><img alt=\"Course-Img\" src=\"/images/kotlin-img.svg\"/></a></div><div class=\"banner-boxes eagle-box d-flex align-items-center justify-content-center\"><a href=\"/\"><img alt=\"Course-Img\" src=\"/images/eagle-img.svg\"/></a></div><div class=\"banner-boxes apple-box d-flex align-items-center justify-content-center\"><a href=\"/\"><img alt=\"Course-Img\" src=\"/images/apple-img.svg\"/></a></div><div class=\"banner-boxes angular-box d-flex align-items-center justify-content-center\"><a href=\"/\"><img alt=\"Course-Img\" src=\"/images/angular-img.svg\"/></a></div><div class=\"banner-boxes python-box d-flex align-items-center justify-content-center\"><a href=\"/\"><img alt=\"Course-Img\" src=\"/images/python-img.svg\"/></a></div><div class=\"banner-boxes react-box d-flex align-items-center justify-content-center\"><a href=\"/\"><img alt=\"Course-Img\" src=\"/images/react-img.svg\"/></a></div><div class=\"banner-boxes android-box d-flex align-items-center justify-content-center\"><a href=\"/\"><img alt=\"Course-Img\" src=\"/images/android-img.svg\"/></a></div><div class=\"banner-boxes java-box d-flex align-items-center justify-content-center\"><a href=\"/\"><img alt=\"Course-Img\" src=\"/images/java-img.svg\"/></a></div></div></div></section><section class=\"why-choose-section\"><div class=\"container\"><div class=\"row\"><div class=\"order-1 order-lg-0 col-lg-8 col-md-12\"><div class=\"d-md-flex align-items-md-center why-choose-left-section\"><div class=\"why-choose-left-column\"><div class=\"why-choose-card card-shadow card\"><div class=\"why-choose-us-img\"><span style=\"box-sizing:border-box;display:inline-block;overflow:hidden;width:initial;height:initial;background:none;opacity:1;border:0;margin:0;padding:0;position:relative;max-width:100%\"><span style=\"box-sizing:border-box;display:block;width:initial;height:initial;background:none;opacity:1;border:0;margin:0;padding:0;max-width:100%\"><img alt=\"\" aria-hidden=\"true\" src=\"data:image/svg+xml,%3csvg%20xmlns=%27http://www.w3.org/2000/svg%27%20version=%271.1%27%20width=%2748%27%20height=%2748%27/%3e\" style=\"display:block;max-width:100%;width:initial;height:initial;background:none;opacity:1;border:0;margin:0;padding:0\"/></span><img alt=\"Why-Choose-Img\" data-nimg=\"intrinsic\" decoding=\"async\" src=\"data:image/gif;base64,R0lGODlhAQABAIAAAAAAAP///yH5BAEAAAAALAAAAAABAAEAAAIBRAA7\" style=\"position:absolute;top:0;left:0;bottom:0;right:0;box-sizing:border-box;padding:0;border:none;margin:auto;display:block;width:0;height:0;min-width:100%;max-width:100%;min-height:100%;max-height:100%\"/><noscript><img alt=\"Why-Choose-Img\" data-nimg=\"intrinsic\" decoding=\"async\" loading=\"lazy\" src=\"https://d20evgacl8spoj.cloudfront.net/uploads/learning-course/images/home-page/2cd6e0d7-4864-4837-a4a7-e0b120282e8d-1648197173.svg\" srcset=\"https://d20evgacl8spoj.cloudfront.net/uploads/learning-course/images/home-page/2cd6e0d7-4864-4837-a4a7-e0b120282e8d-1648197173.svg 1x, https://d20evgacl8spoj.cloudfront.net/uploads/learning-course/images/home-page/2cd6e0d7-4864-4837-a4a7-e0b120282e8d-1648197173.svg 2x\" style=\"position:absolute;top:0;left:0;bottom:0;right:0;box-sizing:border-box;padding:0;border:none;margin:auto;display:block;width:0;height:0;min-width:100%;max-width:100%;min-height:100%;max-height:100%\"/></noscript></span></div><h3 class=\"fs-20 lh-30 fw-600 label-color-5\">Verified &amp; Reliable Content</h3><p class=\"fs-16 fw-400 lh-24 label-color-1 card-text\">The entire content on the site is verified by pro developers and tech freaks.</p></div><div class=\"why-choose-card card-shadow card\"><div class=\"why-choose-us-img\"><span style=\"box-sizing:border-box;display:inline-block;overflow:hidden;width:initial;height:initial;background:none;opacity:1;border:0;margin:0;padding:0;position:relative;max-width:100%\"><span style=\"box-sizing:border-box;display:block;width:initial;height:initial;background:none;opacity:1;border:0;margin:0;padding:0;max-width:100%\"><img alt=\"\" aria-hidden=\"true\" src=\"data:image/svg+xml,%3csvg%20xmlns=%27http://www.w3.org/2000/svg%27%20version=%271.1%27%20width=%2748%27%20height=%2748%27/%3e\" style=\"display:block;max-width:100%;width:initial;height:initial;background:none;opacity:1;border:0;margin:0;padding:0\"/></span><img alt=\"Why-Choose-Img\" data-nimg=\"intrinsic\" decoding=\"async\" src=\"data:image/gif;base64,R0lGODlhAQABAIAAAAAAAP///yH5BAEAAAAALAAAAAABAAEAAAIBRAA7\" style=\"position:absolute;top:0;left:0;bottom:0;right:0;box-sizing:border-box;padding:0;border:none;margin:auto;display:block;width:0;height:0;min-width:100%;max-width:100%;min-height:100%;max-height:100%\"/><noscript><img alt=\"Why-Choose-Img\" data-nimg=\"intrinsic\" decoding=\"async\" loading=\"lazy\" src=\"https://d20evgacl8spoj.cloudfront.net/uploads/learning-course/images/home-page/e5eb78ac-30fd-4443-8f23-63bd378c0c01-1645691302.svg\" srcset=\"https://d20evgacl8spoj.cloudfront.net/uploads/learning-course/images/home-page/e5eb78ac-30fd-4443-8f23-63bd378c0c01-1645691302.svg 1x, https://d20evgacl8spoj.cloudfront.net/uploads/learning-course/images/home-page/e5eb78ac-30fd-4443-8f23-63bd378c0c01-1645691302.svg 2x\" style=\"position:absolute;top:0;left:0;bottom:0;right:0;box-sizing:border-box;padding:0;border:none;margin:auto;display:block;width:0;height:0;min-width:100%;max-width:100%;min-height:100%;max-height:100%\"/></noscript></span></div><h3 class=\"fs-20 lh-30 fw-600 label-color-5\">Self-Directed Learning</h3><p class=\"fs-16 fw-400 lh-24 label-color-1 card-text\">The entire content on the site is verified by pro developers and tech freaks. Enabling self-directed learning so that you can learn at your pace and shape your own path.</p></div></div><div class=\"why-choose-left-column me-0\"><div class=\"why-choose-card card-shadow card\"><div class=\"why-choose-us-img\"><span style=\"box-sizing:border-box;display:inline-block;overflow:hidden;width:initial;height:initial;background:none;opacity:1;border:0;margin:0;padding:0;position:relative;max-width:100%\"><span style=\"box-sizing:border-box;display:block;width:initial;height:initial;background:none;opacity:1;border:0;margin:0;padding:0;max-width:100%\"><img alt=\"\" aria-hidden=\"true\" src=\"data:image/svg+xml,%3csvg%20xmlns=%27http://www.w3.org/2000/svg%27%20version=%271.1%27%20width=%2748%27%20height=%2748%27/%3e\" style=\"display:block;max-width:100%;width:initial;height:initial;background:none;opacity:1;border:0;margin:0;padding:0\"/></span><img alt=\"Why-Choose-Img\" data-nimg=\"intrinsic\" decoding=\"async\" src=\"data:image/gif;base64,R0lGODlhAQABAIAAAAAAAP///yH5BAEAAAAALAAAAAABAAEAAAIBRAA7\" style=\"position:absolute;top:0;left:0;bottom:0;right:0;box-sizing:border-box;padding:0;border:none;margin:auto;display:block;width:0;height:0;min-width:100%;max-width:100%;min-height:100%;max-height:100%\"/><noscript><img alt=\"Why-Choose-Img\" data-nimg=\"intrinsic\" decoding=\"async\" loading=\"lazy\" src=\"https://d20evgacl8spoj.cloudfront.net/uploads/learning-course/images/home-page/7f47bf14-d748-40f4-b9a5-921b1bb4df3f-1648197078.svg\" srcset=\"https://d20evgacl8spoj.cloudfront.net/uploads/learning-course/images/home-page/7f47bf14-d748-40f4-b9a5-921b1bb4df3f-1648197078.svg 1x, https://d20evgacl8spoj.cloudfront.net/uploads/learning-course/images/home-page/7f47bf14-d748-40f4-b9a5-921b1bb4df3f-1648197078.svg 2x\" style=\"position:absolute;top:0;left:0;bottom:0;right:0;box-sizing:border-box;padding:0;border:none;margin:auto;display:block;width:0;height:0;min-width:100%;max-width:100%;min-height:100%;max-height:100%\"/></noscript></span></div><h3 class=\"fs-20 lh-30 fw-600 label-color-5\">Dual Learning Methods</h3><p class=\"fs-16 fw-400 lh-24 label-color-1 card-text\">Along with simplified tutorials, you get video content created by industry experts.</p></div></div></div></div><div class=\"order-0 order-lg-0 col-lg-4 col-md-12\"><div class=\"why-choose-right-section text-center text-lg-start\"><span class=\"fs-16 fw-600 label-color-4 lh-24\">Our Unique Approach</span><h4 class=\"fw-600 fs-36 label-color-14\">Why Tutorials Freak?</h4><p class=\"fw-400 fs-20 lh-30 label-color-2 mb-lg-5\">Learning programming and technical things can be complex. We are here to make it easy with simple and interactive tutorials.</p><button class=\"tf-button\" title=\"Start Learning!\">Get Started Now</button></div></div></div></div></section><section class=\"courses-slider-section\"><div class=\"container\"><div class=\"row\"><div class=\"col-lg-12\"><div class=\"text-center courses-slider-content-wrapper mx-auto\"><span class=\"fs-16 fw-600 lh-24 label-color-4 mb-0\">Content Learners Love</span><h2 class=\"section-heading my-2\">Most Popular Tutorials</h2><p class=\"section-subheading mb-0\">Learning programming and technical things can be complex. We are here to make it easy with simple and interactive tutorials.</p></div></div><div class=\"col-md-3\"><svg aria-labelledby=\"fnmzde-aria\" height=\"280\" id=\"0\" role=\"img\" style=\"margin-top:0;margin-bottom:40px;margin-left:30px;border:1px solid #dedede;border-radius:10px\" width=\"240\"><title id=\"fnmzde-aria\">Loading...</title><rect clip-path=\"url(#fnmzde-diff)\" height=\"100%\" role=\"presentation\" style=\"fill:url(#fnmzde-animated-diff)\" width=\"100%\" x=\"0\" y=\"0\"></rect><defs><clippath id=\"fnmzde-diff\"><rect height=\"60\" rx=\"10\" ry=\"10\" width=\"60\" x=\"10\" y=\"15\"></rect><rect height=\"6\" rx=\"3\" ry=\"3\" width=\"150\" x=\"10\" y=\"90\"></rect><rect height=\"6\" rx=\"3\" ry=\"3\" width=\"130\" x=\"10\" y=\"100\"></rect><rect height=\"100\" rx=\"10\" ry=\"10\" width=\"218\" x=\"10\" y=\"120\"></rect><rect height=\"15\" rx=\"8\" ry=\"8\" width=\"100\" x=\"10\" y=\"240\"></rect></clippath><lineargradient id=\"fnmzde-animated-diff\"><stop offset=\"0%\" stop-color=\"#f0f0f0\" stop-opacity=\"1\"><animate attributename=\"offset\" dur=\"1.2s\" keytimes=\"0; 0.25; 1\" repeatcount=\"indefinite\" values=\"-2; -2; 1\"></animate></stop><stop offset=\"50%\" stop-color=\"#dedede\" stop-opacity=\"1\"><animate attributename=\"offset\" dur=\"1.2s\" keytimes=\"0; 0.25; 1\" repeatcount=\"indefinite\" values=\"-1; -1; 2\"></animate></stop><stop offset=\"100%\" stop-color=\"#f0f0f0\" stop-opacity=\"1\"><animate attributename=\"offset\" dur=\"1.2s\" keytimes=\"0; 0.25; 1\" repeatcount=\"indefinite\" values=\"0; 0; 3\"></animate></stop></lineargradient></defs></svg></div><div class=\"col-md-3\"><svg aria-labelledby=\"izkc30w-aria\" height=\"280\" id=\"1\" role=\"img\" style=\"margin-top:0;margin-bottom:40px;margin-left:30px;border:1px solid #dedede;border-radius:10px\" width=\"240\"><title id=\"izkc30w-aria\">Loading...</title><rect clip-path=\"url(#izkc30w-diff)\" height=\"100%\" role=\"presentation\" style=\"fill:url(#izkc30w-animated-diff)\" width=\"100%\" x=\"0\" y=\"0\"></rect><defs><clippath id=\"izkc30w-diff\"><rect height=\"60\" rx=\"10\" ry=\"10\" width=\"60\" x=\"10\" y=\"15\"></rect><rect height=\"6\" rx=\"3\" ry=\"3\" width=\"150\" x=\"10\" y=\"90\"></rect><rect height=\"6\" rx=\"3\" ry=\"3\" width=\"130\" x=\"10\" y=\"100\"></rect><rect height=\"100\" rx=\"10\" ry=\"10\" width=\"218\" x=\"10\" y=\"120\"></rect><rect height=\"15\" rx=\"8\" ry=\"8\" width=\"100\" x=\"10\" y=\"240\"></rect></clippath><lineargradient id=\"izkc30w-animated-diff\"><stop offset=\"0%\" stop-color=\"#f0f0f0\" stop-opacity=\"1\"><animate attributename=\"offset\" dur=\"1.2s\" keytimes=\"0; 0.25; 1\" repeatcount=\"indefinite\" values=\"-2; -2; 1\"></animate></stop><stop offset=\"50%\" stop-color=\"#dedede\" stop-opacity=\"1\"><animate attributename=\"offset\" dur=\"1.2s\" keytimes=\"0; 0.25; 1\" repeatcount=\"indefinite\" values=\"-1; -1; 2\"></animate></stop><stop offset=\"100%\" stop-color=\"#f0f0f0\" stop-opacity=\"1\"><animate attributename=\"offset\" dur=\"1.2s\" keytimes=\"0; 0.25; 1\" repeatcount=\"indefinite\" values=\"0; 0; 3\"></animate></stop></lineargradient></defs></svg></div><div class=\"col-md-3\"><svg aria-labelledby=\"1ahzbhi-aria\" height=\"280\" id=\"2\" role=\"img\" style=\"margin-top:0;margin-bottom:40px;margin-left:30px;border:1px solid #dedede;border-radius:10px\" width=\"240\"><title id=\"1ahzbhi-aria\">Loading...</title><rect clip-path=\"url(#1ahzbhi-diff)\" height=\"100%\" role=\"presentation\" style=\"fill:url(#1ahzbhi-animated-diff)\" width=\"100%\" x=\"0\" y=\"0\"></rect><defs><clippath id=\"1ahzbhi-diff\"><rect height=\"60\" rx=\"10\" ry=\"10\" width=\"60\" x=\"10\" y=\"15\"></rect><rect height=\"6\" rx=\"3\" ry=\"3\" width=\"150\" x=\"10\" y=\"90\"></rect><rect height=\"6\" rx=\"3\" ry=\"3\" width=\"130\" x=\"10\" y=\"100\"></rect><rect height=\"100\" rx=\"10\" ry=\"10\" width=\"218\" x=\"10\" y=\"120\"></rect><rect height=\"15\" rx=\"8\" ry=\"8\" width=\"100\" x=\"10\" y=\"240\"></rect></clippath><lineargradient id=\"1ahzbhi-animated-diff\"><stop offset=\"0%\" stop-color=\"#f0f0f0\" stop-opacity=\"1\"><animate attributename=\"offset\" dur=\"1.2s\" keytimes=\"0; 0.25; 1\" repeatcount=\"indefinite\" values=\"-2; -2; 1\"></animate></stop><stop offset=\"50%\" stop-color=\"#dedede\" stop-opacity=\"1\"><animate attributename=\"offset\" dur=\"1.2s\" keytimes=\"0; 0.25; 1\" repeatcount=\"indefinite\" values=\"-1; -1; 2\"></animate></stop><stop offset=\"100%\" stop-color=\"#f0f0f0\" stop-opacity=\"1\"><animate attributename=\"offset\" dur=\"1.2s\" keytimes=\"0; 0.25; 1\" repeatcount=\"indefinite\" values=\"0; 0; 3\"></animate></stop></lineargradient></defs></svg></div><div class=\"col-md-3\"><svg aria-labelledby=\"vrsslxh-aria\" height=\"280\" id=\"3\" role=\"img\" style=\"margin-top:0;margin-bottom:40px;margin-left:30px;border:1px solid #dedede;border-radius:10px\" width=\"240\"><title id=\"vrsslxh-aria\">Loading...</title><rect clip-path=\"url(#vrsslxh-diff)\" height=\"100%\" role=\"presentation\" style=\"fill:url(#vrsslxh-animated-diff)\" width=\"100%\" x=\"0\" y=\"0\"></rect><defs><clippath id=\"vrsslxh-diff\"><rect height=\"60\" rx=\"10\" ry=\"10\" width=\"60\" x=\"10\" y=\"15\"></rect><rect height=\"6\" rx=\"3\" ry=\"3\" width=\"150\" x=\"10\" y=\"90\"></rect><rect height=\"6\" rx=\"3\" ry=\"3\" width=\"130\" x=\"10\" y=\"100\"></rect><rect height=\"100\" rx=\"10\" ry=\"10\" width=\"218\" x=\"10\" y=\"120\"></rect><rect height=\"15\" rx=\"8\" ry=\"8\" width=\"100\" x=\"10\" y=\"240\"></rect></clippath><lineargradient id=\"vrsslxh-animated-diff\"><stop offset=\"0%\" stop-color=\"#f0f0f0\" stop-opacity=\"1\"><animate attributename=\"offset\" dur=\"1.2s\" keytimes=\"0; 0.25; 1\" repeatcount=\"indefinite\" values=\"-2; -2; 1\"></animate></stop><stop offset=\"50%\" stop-color=\"#dedede\" stop-opacity=\"1\"><animate attributename=\"offset\" dur=\"1.2s\" keytimes=\"0; 0.25; 1\" repeatcount=\"indefinite\" values=\"-1; -1; 2\"></animate></stop><stop offset=\"100%\" stop-color=\"#f0f0f0\" stop-opacity=\"1\"><animate attributename=\"offset\" dur=\"1.2s\" keytimes=\"0; 0.25; 1\" repeatcount=\"indefinite\" values=\"0; 0; 3\"></animate></stop></lineargradient></defs></svg></div><div class=\"text-center\"><button class=\"tf-button\" title=\"View All Tutorials\">View All Tutorials</button></div></div></div></section><section class=\"online-compiler\"><div class=\"container\"><div class=\"align-items-center row\"><div class=\"heading-wrapper text-center\"><h2 class=\"section-heading\">Online Compilers for Seamless Practice</h2></div><div class=\"mb-4 mb-md-0 text-center text-lg-start col-xl-7 col-lg-6\"><img alt=\"\" class=\"img-fluid mt-5\" src=\"/images/compilor.webp\" width=\"90%\"/></div><div class=\"mb-4 mb-lg-0 col-xl-5 col-lg-6\"><div class=\"row\"><div class=\"mb-3 compiler-column col-lg-6 col-sm-6\"><a href=\"/compiler/c\" title=\"Online C Compiler (Free Editor for C Programs)\"><div class=\"course-compiler-card card\"><div class=\"card-body\"><div class=\"d-flex align-items-center\"><div class=\"compiler-icon-wrapper mb-0 me-3 rounded-circle d-flex align-items-center justify-content-center\"><span style=\"box-sizing:border-box;display:inline-block;overflow:hidden;width:initial;height:initial;background:none;opacity:1;border:0;margin:0;padding:0;position:relative;max-width:100%\"><span style=\"box-sizing:border-box;display:block;width:initial;height:initial;background:none;opacity:1;border:0;margin:0;padding:0;max-width:100%\"><img alt=\"\" aria-hidden=\"true\" src=\"data:image/svg+xml,%3csvg%20xmlns=%27http://www.w3.org/2000/svg%27%20version=%271.1%27%20width=%2725%27%20height=%2725%27/%3e\" style=\"display:block;max-width:100%;width:initial;height:initial;background:none;opacity:1;border:0;margin:0;padding:0\"/></span><img alt=\"compiler-img\" class=\"\" data-nimg=\"intrinsic\" decoding=\"async\" src=\"data:image/gif;base64,R0lGODlhAQABAIAAAAAAAP///yH5BAEAAAAALAAAAAABAAEAAAIBRAA7\" style=\"position:absolute;top:0;left:0;bottom:0;right:0;box-sizing:border-box;padding:0;border:none;margin:auto;display:block;width:0;height:0;min-width:100%;max-width:100%;min-height:100%;max-height:100%\"/><noscript><img alt=\"compiler-img\" class=\"\" data-nimg=\"intrinsic\" decoding=\"async\" loading=\"lazy\" src=\"https://d20evgacl8spoj.cloudfront.net/uploads/images/study-material-compiler/f60ffd71-5b88-42f8-8396-75ad661dd4e9-1664191180.svg\" srcset=\"https://d20evgacl8spoj.cloudfront.net/uploads/images/study-material-compiler/f60ffd71-5b88-42f8-8396-75ad661dd4e9-1664191180.svg 1x, https://d20evgacl8spoj.cloudfront.net/uploads/images/study-material-compiler/f60ffd71-5b88-42f8-8396-75ad661dd4e9-1664191180.svg 2x\" style=\"position:absolute;top:0;left:0;bottom:0;right:0;box-sizing:border-box;padding:0;border:none;margin:auto;display:block;width:0;height:0;min-width:100%;max-width:100%;min-height:100%;max-height:100%\"/></noscript></span></div><div><h5 class=\"fs-14 mb-0 fw-500 label-color-5 heading-turnicate\">Online C Compiler (Free Editor for C Programs)</h5><div><span class=\"fs-13 fw-500 label-color-4 text-truncate\">Start Coding C<svg aria-hidden=\"true\" class=\"svg-inline--fa fa-arrow-right ms-2\" data-icon=\"arrow-right\" data-prefix=\"fas\" focusable=\"false\" role=\"img\" viewbox=\"0 0 448 512\" xmlns=\"http://www.w3.org/2000/svg\"><path d=\"M438.6 278.6l-160 160C272.4 444.9 264.2 448 256 448s-16.38-3.125-22.62-9.375c-12.5-12.5-12.5-32.75 0-45.25L338.8 288H32C14.33 288 .0016 273.7 .0016 256S14.33 224 32 224h306.8l-105.4-105.4c-12.5-12.5-12.5-32.75 0-45.25s32.75-12.5 45.25 0l160 160C451.1 245.9 451.1 266.1 438.6 278.6z\" fill=\"currentColor\"></path></svg></span></div></div></div></div></div></a></div><div class=\"mb-3 compiler-column col-lg-6 col-sm-6\"><a href=\"/compiler/css\" title=\"Online CSS Compiler and Editor\"><div class=\"course-compiler-card card\"><div class=\"card-body\"><div class=\"d-flex align-items-center\"><div class=\"compiler-icon-wrapper mb-0 me-3 rounded-circle d-flex align-items-center justify-content-center\"><span style=\"box-sizing:border-box;display:inline-block;overflow:hidden;width:initial;height:initial;background:none;opacity:1;border:0;margin:0;padding:0;position:relative;max-width:100%\"><span style=\"box-sizing:border-box;display:block;width:initial;height:initial;background:none;opacity:1;border:0;margin:0;padding:0;max-width:100%\"><img alt=\"\" aria-hidden=\"true\" src=\"data:image/svg+xml,%3csvg%20xmlns=%27http://www.w3.org/2000/svg%27%20version=%271.1%27%20width=%2725%27%20height=%2725%27/%3e\" style=\"display:block;max-width:100%;width:initial;height:initial;background:none;opacity:1;border:0;margin:0;padding:0\"/></span><img alt=\"compiler-img\" class=\"\" data-nimg=\"intrinsic\" decoding=\"async\" src=\"data:image/gif;base64,R0lGODlhAQABAIAAAAAAAP///yH5BAEAAAAALAAAAAABAAEAAAIBRAA7\" style=\"position:absolute;top:0;left:0;bottom:0;right:0;box-sizing:border-box;padding:0;border:none;margin:auto;display:block;width:0;height:0;min-width:100%;max-width:100%;min-height:100%;max-height:100%\"/><noscript><img alt=\"compiler-img\" class=\"\" data-nimg=\"intrinsic\" decoding=\"async\" loading=\"lazy\" src=\"https://d20evgacl8spoj.cloudfront.net/uploads/images/study-material-compiler/b5be3eb0-8ae8-4e22-97c9-0cdcb2a250e4-1664191183.svg\" srcset=\"https://d20evgacl8spoj.cloudfront.net/uploads/images/study-material-compiler/b5be3eb0-8ae8-4e22-97c9-0cdcb2a250e4-1664191183.svg 1x, https://d20evgacl8spoj.cloudfront.net/uploads/images/study-material-compiler/b5be3eb0-8ae8-4e22-97c9-0cdcb2a250e4-1664191183.svg 2x\" style=\"position:absolute;top:0;left:0;bottom:0;right:0;box-sizing:border-box;padding:0;border:none;margin:auto;display:block;width:0;height:0;min-width:100%;max-width:100%;min-height:100%;max-height:100%\"/></noscript></span></div><div><h5 class=\"fs-14 mb-0 fw-500 label-color-5 heading-turnicate\">Online CSS Compiler and Editor</h5><div><span class=\"fs-13 fw-500 label-color-4 text-truncate\">Start Coding CSS<svg aria-hidden=\"true\" class=\"svg-inline--fa fa-arrow-right ms-2\" data-icon=\"arrow-right\" data-prefix=\"fas\" focusable=\"false\" role=\"img\" viewbox=\"0 0 448 512\" xmlns=\"http://www.w3.org/2000/svg\"><path d=\"M438.6 278.6l-160 160C272.4 444.9 264.2 448 256 448s-16.38-3.125-22.62-9.375c-12.5-12.5-12.5-32.75 0-45.25L338.8 288H32C14.33 288 .0016 273.7 .0016 256S14.33 224 32 224h306.8l-105.4-105.4c-12.5-12.5-12.5-32.75 0-45.25s32.75-12.5 45.25 0l160 160C451.1 245.9 451.1 266.1 438.6 278.6z\" fill=\"currentColor\"></path></svg></span></div></div></div></div></div></a></div><div class=\"mb-3 compiler-column col-lg-6 col-sm-6\"><a href=\"/compiler/html\" title=\"Online Compiler for HTML (HTML Editor &amp; Code Runner)\"><div class=\"course-compiler-card card\"><div class=\"card-body\"><div class=\"d-flex align-items-center\"><div class=\"compiler-icon-wrapper mb-0 me-3 rounded-circle d-flex align-items-center justify-content-center\"><span style=\"box-sizing:border-box;display:inline-block;overflow:hidden;width:initial;height:initial;background:none;opacity:1;border:0;margin:0;padding:0;position:relative;max-width:100%\"><span style=\"box-sizing:border-box;display:block;width:initial;height:initial;background:none;opacity:1;border:0;margin:0;padding:0;max-width:100%\"><img alt=\"\" aria-hidden=\"true\" src=\"data:image/svg+xml,%3csvg%20xmlns=%27http://www.w3.org/2000/svg%27%20version=%271.1%27%20width=%2725%27%20height=%2725%27/%3e\" style=\"display:block;max-width:100%;width:initial;height:initial;background:none;opacity:1;border:0;margin:0;padding:0\"/></span><img alt=\"compiler-img\" class=\"\" data-nimg=\"intrinsic\" decoding=\"async\" src=\"data:image/gif;base64,R0lGODlhAQABAIAAAAAAAP///yH5BAEAAAAALAAAAAABAAEAAAIBRAA7\" style=\"position:absolute;top:0;left:0;bottom:0;right:0;box-sizing:border-box;padding:0;border:none;margin:auto;display:block;width:0;height:0;min-width:100%;max-width:100%;min-height:100%;max-height:100%\"/><noscript><img alt=\"compiler-img\" class=\"\" data-nimg=\"intrinsic\" decoding=\"async\" loading=\"lazy\" src=\"https://d20evgacl8spoj.cloudfront.net/uploads/images/study-material-compiler/329300da-2f51-419c-be8e-58262e91fac0-1664257495.svg\" srcset=\"https://d20evgacl8spoj.cloudfront.net/uploads/images/study-material-compiler/329300da-2f51-419c-be8e-58262e91fac0-1664257495.svg 1x, https://d20evgacl8spoj.cloudfront.net/uploads/images/study-material-compiler/329300da-2f51-419c-be8e-58262e91fac0-1664257495.svg 2x\" style=\"position:absolute;top:0;left:0;bottom:0;right:0;box-sizing:border-box;padding:0;border:none;margin:auto;display:block;width:0;height:0;min-width:100%;max-width:100%;min-height:100%;max-height:100%\"/></noscript></span></div><div><h5 class=\"fs-14 mb-0 fw-500 label-color-5 heading-turnicate\">Online Compiler for HTML (HTML Editor &amp; Code Runner)</h5><div><span class=\"fs-13 fw-500 label-color-4 text-truncate\">Run HTML Code Online<svg aria-hidden=\"true\" class=\"svg-inline--fa fa-arrow-right ms-2\" data-icon=\"arrow-right\" data-prefix=\"fas\" focusable=\"false\" role=\"img\" viewbox=\"0 0 448 512\" xmlns=\"http://www.w3.org/2000/svg\"><path d=\"M438.6 278.6l-160 160C272.4 444.9 264.2 448 256 448s-16.38-3.125-22.62-9.375c-12.5-12.5-12.5-32.75 0-45.25L338.8 288H32C14.33 288 .0016 273.7 .0016 256S14.33 224 32 224h306.8l-105.4-105.4c-12.5-12.5-12.5-32.75 0-45.25s32.75-12.5 45.25 0l160 160C451.1 245.9 451.1 266.1 438.6 278.6z\" fill=\"currentColor\"></path></svg></span></div></div></div></div></div></a></div><div class=\"mb-3 compiler-column col-lg-6 col-sm-6\"><a href=\"/compiler/jquery\" title=\"Online jQuery Editor and Compiler\"><div class=\"course-compiler-card card\"><div class=\"card-body\"><div class=\"d-flex align-items-center\"><div class=\"compiler-icon-wrapper mb-0 me-3 rounded-circle d-flex align-items-center justify-content-center\"><span style=\"box-sizing:border-box;display:inline-block;overflow:hidden;width:initial;height:initial;background:none;opacity:1;border:0;margin:0;padding:0;position:relative;max-width:100%\"><span style=\"box-sizing:border-box;display:block;width:initial;height:initial;background:none;opacity:1;border:0;margin:0;padding:0;max-width:100%\"><img alt=\"\" aria-hidden=\"true\" src=\"data:image/svg+xml,%3csvg%20xmlns=%27http://www.w3.org/2000/svg%27%20version=%271.1%27%20width=%2725%27%20height=%2725%27/%3e\" style=\"display:block;max-width:100%;width:initial;height:initial;background:none;opacity:1;border:0;margin:0;padding:0\"/></span><img alt=\"compiler-img\" class=\"\" data-nimg=\"intrinsic\" decoding=\"async\" src=\"data:image/gif;base64,R0lGODlhAQABAIAAAAAAAP///yH5BAEAAAAALAAAAAABAAEAAAIBRAA7\" style=\"position:absolute;top:0;left:0;bottom:0;right:0;box-sizing:border-box;padding:0;border:none;margin:auto;display:block;width:0;height:0;min-width:100%;max-width:100%;min-height:100%;max-height:100%\"/><noscript><img alt=\"compiler-img\" class=\"\" data-nimg=\"intrinsic\" decoding=\"async\" loading=\"lazy\" src=\"https://d20evgacl8spoj.cloudfront.net/uploads/images/study-material-compiler/da172d80-2fd9-4c25-a180-5c4d7ef1b13b-1663998203.svg\" srcset=\"https://d20evgacl8spoj.cloudfront.net/uploads/images/study-material-compiler/da172d80-2fd9-4c25-a180-5c4d7ef1b13b-1663998203.svg 1x, https://d20evgacl8spoj.cloudfront.net/uploads/images/study-material-compiler/da172d80-2fd9-4c25-a180-5c4d7ef1b13b-1663998203.svg 2x\" style=\"position:absolute;top:0;left:0;bottom:0;right:0;box-sizing:border-box;padding:0;border:none;margin:auto;display:block;width:0;height:0;min-width:100%;max-width:100%;min-height:100%;max-height:100%\"/></noscript></span></div><div><h5 class=\"fs-14 mb-0 fw-500 label-color-5 heading-turnicate\">Online jQuery Editor and Compiler</h5><div><span class=\"fs-13 fw-500 label-color-4 text-truncate\">Start Coding jQuery<svg aria-hidden=\"true\" class=\"svg-inline--fa fa-arrow-right ms-2\" data-icon=\"arrow-right\" data-prefix=\"fas\" focusable=\"false\" role=\"img\" viewbox=\"0 0 448 512\" xmlns=\"http://www.w3.org/2000/svg\"><path d=\"M438.6 278.6l-160 160C272.4 444.9 264.2 448 256 448s-16.38-3.125-22.62-9.375c-12.5-12.5-12.5-32.75 0-45.25L338.8 288H32C14.33 288 .0016 273.7 .0016 256S14.33 224 32 224h306.8l-105.4-105.4c-12.5-12.5-12.5-32.75 0-45.25s32.75-12.5 45.25 0l160 160C451.1 245.9 451.1 266.1 438.6 278.6z\" fill=\"currentColor\"></path></svg></span></div></div></div></div></div></a></div><div class=\"mb-3 compiler-column col-lg-6 col-sm-6\"><a href=\"/compiler/cpp\" title=\"C++ Compiler Online (Free Editor for C++ Programs)\"><div class=\"course-compiler-card card\"><div class=\"card-body\"><div class=\"d-flex align-items-center\"><div class=\"compiler-icon-wrapper mb-0 me-3 rounded-circle d-flex align-items-center justify-content-center\"><span style=\"box-sizing:border-box;display:inline-block;overflow:hidden;width:initial;height:initial;background:none;opacity:1;border:0;margin:0;padding:0;position:relative;max-width:100%\"><span style=\"box-sizing:border-box;display:block;width:initial;height:initial;background:none;opacity:1;border:0;margin:0;padding:0;max-width:100%\"><img alt=\"\" aria-hidden=\"true\" src=\"data:image/svg+xml,%3csvg%20xmlns=%27http://www.w3.org/2000/svg%27%20version=%271.1%27%20width=%2725%27%20height=%2725%27/%3e\" style=\"display:block;max-width:100%;width:initial;height:initial;background:none;opacity:1;border:0;margin:0;padding:0\"/></span><img alt=\"compiler-img\" class=\"\" data-nimg=\"intrinsic\" decoding=\"async\" src=\"data:image/gif;base64,R0lGODlhAQABAIAAAAAAAP///yH5BAEAAAAALAAAAAABAAEAAAIBRAA7\" style=\"position:absolute;top:0;left:0;bottom:0;right:0;box-sizing:border-box;padding:0;border:none;margin:auto;display:block;width:0;height:0;min-width:100%;max-width:100%;min-height:100%;max-height:100%\"/><noscript><img alt=\"compiler-img\" class=\"\" data-nimg=\"intrinsic\" decoding=\"async\" loading=\"lazy\" src=\"https://d20evgacl8spoj.cloudfront.net/uploads/images/study-material-compiler/ac77b308-23fd-4c41-a26c-c5df53f7e1a0-1664257491.svg\" srcset=\"https://d20evgacl8spoj.cloudfront.net/uploads/images/study-material-compiler/ac77b308-23fd-4c41-a26c-c5df53f7e1a0-1664257491.svg 1x, https://d20evgacl8spoj.cloudfront.net/uploads/images/study-material-compiler/ac77b308-23fd-4c41-a26c-c5df53f7e1a0-1664257491.svg 2x\" style=\"position:absolute;top:0;left:0;bottom:0;right:0;box-sizing:border-box;padding:0;border:none;margin:auto;display:block;width:0;height:0;min-width:100%;max-width:100%;min-height:100%;max-height:100%\"/></noscript></span></div><div><h5 class=\"fs-14 mb-0 fw-500 label-color-5 heading-turnicate\">C++ Compiler Online (Free Editor for C++ Programs)</h5><div><span class=\"fs-13 fw-500 label-color-4 text-truncate\">Start Coding C++<svg aria-hidden=\"true\" class=\"svg-inline--fa fa-arrow-right ms-2\" data-icon=\"arrow-right\" data-prefix=\"fas\" focusable=\"false\" role=\"img\" viewbox=\"0 0 448 512\" xmlns=\"http://www.w3.org/2000/svg\"><path d=\"M438.6 278.6l-160 160C272.4 444.9 264.2 448 256 448s-16.38-3.125-22.62-9.375c-12.5-12.5-12.5-32.75 0-45.25L338.8 288H32C14.33 288 .0016 273.7 .0016 256S14.33 224 32 224h306.8l-105.4-105.4c-12.5-12.5-12.5-32.75 0-45.25s32.75-12.5 45.25 0l160 160C451.1 245.9 451.1 266.1 438.6 278.6z\" fill=\"currentColor\"></path></svg></span></div></div></div></div></div></a></div><div class=\"mb-3 compiler-column col-lg-6 col-sm-6\"><a href=\"/compiler/php\" title=\"Online PHP Compiler (Free PHP Editor)\"><div class=\"course-compiler-card card\"><div class=\"card-body\"><div class=\"d-flex align-items-center\"><div class=\"compiler-icon-wrapper mb-0 me-3 rounded-circle d-flex align-items-center justify-content-center\"><span style=\"box-sizing:border-box;display:inline-block;overflow:hidden;width:initial;height:initial;background:none;opacity:1;border:0;margin:0;padding:0;position:relative;max-width:100%\"><span style=\"box-sizing:border-box;display:block;width:initial;height:initial;background:none;opacity:1;border:0;margin:0;padding:0;max-width:100%\"><img alt=\"\" aria-hidden=\"true\" src=\"data:image/svg+xml,%3csvg%20xmlns=%27http://www.w3.org/2000/svg%27%20version=%271.1%27%20width=%2725%27%20height=%2725%27/%3e\" style=\"display:block;max-width:100%;width:initial;height:initial;background:none;opacity:1;border:0;margin:0;padding:0\"/></span><img alt=\"compiler-img\" class=\"\" data-nimg=\"intrinsic\" decoding=\"async\" src=\"data:image/gif;base64,R0lGODlhAQABAIAAAAAAAP///yH5BAEAAAAALAAAAAABAAEAAAIBRAA7\" style=\"position:absolute;top:0;left:0;bottom:0;right:0;box-sizing:border-box;padding:0;border:none;margin:auto;display:block;width:0;height:0;min-width:100%;max-width:100%;min-height:100%;max-height:100%\"/><noscript><img alt=\"compiler-img\" class=\"\" data-nimg=\"intrinsic\" decoding=\"async\" loading=\"lazy\" src=\"https://d20evgacl8spoj.cloudfront.net/uploads/images/study-material-compiler/0348b25c-17b7-4ade-962b-d71fd3753814-1663998384.svg\" srcset=\"https://d20evgacl8spoj.cloudfront.net/uploads/images/study-material-compiler/0348b25c-17b7-4ade-962b-d71fd3753814-1663998384.svg 1x, https://d20evgacl8spoj.cloudfront.net/uploads/images/study-material-compiler/0348b25c-17b7-4ade-962b-d71fd3753814-1663998384.svg 2x\" style=\"position:absolute;top:0;left:0;bottom:0;right:0;box-sizing:border-box;padding:0;border:none;margin:auto;display:block;width:0;height:0;min-width:100%;max-width:100%;min-height:100%;max-height:100%\"/></noscript></span></div><div><h5 class=\"fs-14 mb-0 fw-500 label-color-5 heading-turnicate\">Online PHP Compiler (Free PHP Editor)</h5><div><span class=\"fs-13 fw-500 label-color-4 text-truncate\">Start Coding PHP<svg aria-hidden=\"true\" class=\"svg-inline--fa fa-arrow-right ms-2\" data-icon=\"arrow-right\" data-prefix=\"fas\" focusable=\"false\" role=\"img\" viewbox=\"0 0 448 512\" xmlns=\"http://www.w3.org/2000/svg\"><path d=\"M438.6 278.6l-160 160C272.4 444.9 264.2 448 256 448s-16.38-3.125-22.62-9.375c-12.5-12.5-12.5-32.75 0-45.25L338.8 288H32C14.33 288 .0016 273.7 .0016 256S14.33 224 32 224h306.8l-105.4-105.4c-12.5-12.5-12.5-32.75 0-45.25s32.75-12.5 45.25 0l160 160C451.1 245.9 451.1 266.1 438.6 278.6z\" fill=\"currentColor\"></path></svg></span></div></div></div></div></div></a></div><div class=\"mb-3 compiler-column col-lg-6 col-sm-6\"><a href=\"/compiler/python\" title=\"Online Python Compiler (Free Editor for Python Programs)\"><div class=\"course-compiler-card card\"><div class=\"card-body\"><div class=\"d-flex align-items-center\"><div class=\"compiler-icon-wrapper mb-0 me-3 rounded-circle d-flex align-items-center justify-content-center\"><span style=\"box-sizing:border-box;display:inline-block;overflow:hidden;width:initial;height:initial;background:none;opacity:1;border:0;margin:0;padding:0;position:relative;max-width:100%\"><span style=\"box-sizing:border-box;display:block;width:initial;height:initial;background:none;opacity:1;border:0;margin:0;padding:0;max-width:100%\"><img alt=\"\" aria-hidden=\"true\" src=\"data:image/svg+xml,%3csvg%20xmlns=%27http://www.w3.org/2000/svg%27%20version=%271.1%27%20width=%2725%27%20height=%2725%27/%3e\" style=\"display:block;max-width:100%;width:initial;height:initial;background:none;opacity:1;border:0;margin:0;padding:0\"/></span><img alt=\"compiler-img\" class=\"\" data-nimg=\"intrinsic\" decoding=\"async\" src=\"data:image/gif;base64,R0lGODlhAQABAIAAAAAAAP///yH5BAEAAAAALAAAAAABAAEAAAIBRAA7\" style=\"position:absolute;top:0;left:0;bottom:0;right:0;box-sizing:border-box;padding:0;border:none;margin:auto;display:block;width:0;height:0;min-width:100%;max-width:100%;min-height:100%;max-height:100%\"/><noscript><img alt=\"compiler-img\" class=\"\" data-nimg=\"intrinsic\" decoding=\"async\" loading=\"lazy\" src=\"https://d20evgacl8spoj.cloudfront.net/uploads/images/study-material-compiler/6ead73cf-3385-44f1-a540-4f717fc7e467-1663998221.svg\" srcset=\"https://d20evgacl8spoj.cloudfront.net/uploads/images/study-material-compiler/6ead73cf-3385-44f1-a540-4f717fc7e467-1663998221.svg 1x, https://d20evgacl8spoj.cloudfront.net/uploads/images/study-material-compiler/6ead73cf-3385-44f1-a540-4f717fc7e467-1663998221.svg 2x\" style=\"position:absolute;top:0;left:0;bottom:0;right:0;box-sizing:border-box;padding:0;border:none;margin:auto;display:block;width:0;height:0;min-width:100%;max-width:100%;min-height:100%;max-height:100%\"/></noscript></span></div><div><h5 class=\"fs-14 mb-0 fw-500 label-color-5 heading-turnicate\">Online Python Compiler (Free Editor for Python Programs)</h5><div><span class=\"fs-13 fw-500 label-color-4 text-truncate\">Start Coding Python<svg aria-hidden=\"true\" class=\"svg-inline--fa fa-arrow-right ms-2\" data-icon=\"arrow-right\" data-prefix=\"fas\" focusable=\"false\" role=\"img\" viewbox=\"0 0 448 512\" xmlns=\"http://www.w3.org/2000/svg\"><path d=\"M438.6 278.6l-160 160C272.4 444.9 264.2 448 256 448s-16.38-3.125-22.62-9.375c-12.5-12.5-12.5-32.75 0-45.25L338.8 288H32C14.33 288 .0016 273.7 .0016 256S14.33 224 32 224h306.8l-105.4-105.4c-12.5-12.5-12.5-32.75 0-45.25s32.75-12.5 45.25 0l160 160C451.1 245.9 451.1 266.1 438.6 278.6z\" fill=\"currentColor\"></path></svg></span></div></div></div></div></div></a></div></div></div></div></div></section><section class=\"py-5\"><div class=\"container\"><div class=\"row\"><div class=\"col-lg-12\"><div class=\"text-center mb-65 mx-auto mb-md-5 mb-4\"><h2 class=\"section-heading my-2\">Land Your Dream Job By Preparing for Interview Questions</h2><p class=\"section-subheading mb-0\">Explore the expert-curated interview questions with answers.</p></div></div></div><div class=\"row\"><div class=\"mb-3 col-xl-3 col-lg-4 col-md-6\"><div class=\"h-100 new-catogory-cards card\"><div class=\"p-0 rounded-2 card-body\"><div class=\"d-flex p-3 catogary-card-body cursor-pointer d-flex align-items-center\"><div class=\"image-wrapper d-flex align-items-center justify-content-center\"><img alt=\"https://d20evgacl8spoj.cloudfront.net/uploads/learning-course/images/lcourses/861b734d-1200-4ef9-9f80-fdcbf2d5918b-1654781169.png\" height=\"32\" src=\"https://d20evgacl8spoj.cloudfront.net/uploads/learning-course/images/lcourses/861b734d-1200-4ef9-9f80-fdcbf2d5918b-1654781169.png\" width=\"32\"/></div><div class=\"content-wrapper ps-2 align-middle d-flex align-items-center\"><h3 class=\"fs-16 lh-30 fw-500 label-color-5 my-1 heading-turnicate\" title=\"jQuery Interview Questions\">jQuery Interview Questions</h3></div></div></div></div></div><div class=\"mb-3 col-xl-3 col-lg-4 col-md-6\"><div class=\"h-100 new-catogory-cards card\"><div class=\"p-0 rounded-2 card-body\"><div class=\"d-flex p-3 catogary-card-body cursor-pointer d-flex align-items-center\"><div class=\"image-wrapper d-flex align-items-center justify-content-center\"><img alt=\"https://d20evgacl8spoj.cloudfront.net/uploads/learning-course/images/lcourses/99334bcb-06ec-402d-8461-a1d886d97b8e-1654319072.png\" height=\"32\" src=\"https://d20evgacl8spoj.cloudfront.net/uploads/learning-course/images/lcourses/99334bcb-06ec-402d-8461-a1d886d97b8e-1654319072.png\" width=\"32\"/></div><div class=\"content-wrapper ps-2 align-middle d-flex align-items-center\"><h3 class=\"fs-16 lh-30 fw-500 label-color-5 my-1 heading-turnicate\" title=\"PHP Interview Questions\">PHP Interview Questions</h3></div></div></div></div></div><div class=\"mb-3 col-xl-3 col-lg-4 col-md-6\"><div class=\"h-100 new-catogory-cards card\"><div class=\"p-0 rounded-2 card-body\"><div class=\"d-flex p-3 catogary-card-body cursor-pointer d-flex align-items-center\"><div class=\"image-wrapper d-flex align-items-center justify-content-center\"><img alt=\"https://d20evgacl8spoj.cloudfront.net/uploads/learning-course/images/lcourses/28a317b0-5132-4aba-8a49-5ea970f23a49-1671862480.png\" height=\"32\" src=\"https://d20evgacl8spoj.cloudfront.net/uploads/learning-course/images/lcourses/28a317b0-5132-4aba-8a49-5ea970f23a49-1671862480.png\" width=\"32\"/></div><div class=\"content-wrapper ps-2 align-middle d-flex align-items-center\"><h3 class=\"fs-16 lh-30 fw-500 label-color-5 my-1 heading-turnicate\" title=\"Git Interview Questions\">Git Interview Questions</h3></div></div></div></div></div><div class=\"mb-3 col-xl-3 col-lg-4 col-md-6\"><div class=\"h-100 new-catogory-cards card\"><div class=\"p-0 rounded-2 card-body\"><div class=\"d-flex p-3 catogary-card-body cursor-pointer d-flex align-items-center\"><div class=\"image-wrapper d-flex align-items-center justify-content-center\"><img alt=\"https://d20evgacl8spoj.cloudfront.net/uploads/learning-course/images/lcourses/6dee8d03-5667-4b32-b483-af2b62dcd8d3-1647338788.png\" height=\"32\" src=\"https://d20evgacl8spoj.cloudfront.net/uploads/learning-course/images/lcourses/6dee8d03-5667-4b32-b483-af2b62dcd8d3-1647338788.png\" width=\"32\"/></div><div class=\"content-wrapper ps-2 align-middle d-flex align-items-center\"><h3 class=\"fs-16 lh-30 fw-500 label-color-5 my-1 heading-turnicate\" title=\"ReactJS Interview Questions\">ReactJS Interview Questions</h3></div></div></div></div></div><div class=\"mb-3 col-xl-3 col-lg-4 col-md-6\"><div class=\"h-100 new-catogory-cards card\"><div class=\"p-0 rounded-2 card-body\"><div class=\"d-flex p-3 catogary-card-body cursor-pointer d-flex align-items-center\"><div class=\"image-wrapper d-flex align-items-center justify-content-center\"><img alt=\"https://d20evgacl8spoj.cloudfront.net/uploads/learning-course/images/lcourses/7fd6b3ae-d77a-4e80-80bc-02b5b47c32df-1647346507.png\" height=\"32\" src=\"https://d20evgacl8spoj.cloudfront.net/uploads/learning-course/images/lcourses/7fd6b3ae-d77a-4e80-80bc-02b5b47c32df-1647346507.png\" width=\"32\"/></div><div class=\"content-wrapper ps-2 align-middle d-flex align-items-center\"><h3 class=\"fs-16 lh-30 fw-500 label-color-5 my-1 heading-turnicate\" title=\"Web App Penetration Testing Interview Questions\">Web App Penetration Testing Interview Questions</h3></div></div></div></div></div><div class=\"mb-3 col-xl-3 col-lg-4 col-md-6\"><div class=\"h-100 new-catogory-cards card\"><div class=\"p-0 rounded-2 card-body\"><div class=\"d-flex p-3 catogary-card-body cursor-pointer d-flex align-items-center\"><div class=\"image-wrapper d-flex align-items-center justify-content-center\"><img alt=\"https://d20evgacl8spoj.cloudfront.net/uploads/learning-course/images/lcourses/283eae7c-8974-49f2-a0a5-e0ac4c0e9215-1647338853.png\" height=\"32\" src=\"https://d20evgacl8spoj.cloudfront.net/uploads/learning-course/images/lcourses/283eae7c-8974-49f2-a0a5-e0ac4c0e9215-1647338853.png\" width=\"32\"/></div><div class=\"content-wrapper ps-2 align-middle d-flex align-items-center\"><h3 class=\"fs-16 lh-30 fw-500 label-color-5 my-1 heading-turnicate\" title=\"IoT Interview Questions\">IoT Interview Questions</h3></div></div></div></div></div><div class=\"mb-3 col-xl-3 col-lg-4 col-md-6\"><div class=\"h-100 new-catogory-cards card\"><div class=\"p-0 rounded-2 card-body\"><div class=\"d-flex p-3 catogary-card-body cursor-pointer d-flex align-items-center\"><div class=\"image-wrapper d-flex align-items-center justify-content-center\"><img alt=\"https://d20evgacl8spoj.cloudfront.net/uploads/learning-course/images/lcourses/777b9062-963f-41b9-b379-dbd7e45155ac-1647341118.png\" height=\"32\" src=\"https://d20evgacl8spoj.cloudfront.net/uploads/learning-course/images/lcourses/777b9062-963f-41b9-b379-dbd7e45155ac-1647341118.png\" width=\"32\"/></div><div class=\"content-wrapper ps-2 align-middle d-flex align-items-center\"><h3 class=\"fs-16 lh-30 fw-500 label-color-5 my-1 heading-turnicate\" title=\"Google Analytics Interview Questions\">Google Analytics Interview Questions</h3></div></div></div></div></div><div class=\"mb-3 col-xl-3 col-lg-4 col-md-6\"><div class=\"h-100 new-catogory-cards card\"><div class=\"p-0 rounded-2 card-body\"><div class=\"d-flex p-3 catogary-card-body cursor-pointer d-flex align-items-center\"><div class=\"image-wrapper d-flex align-items-center justify-content-center\"><img alt=\"https://d20evgacl8spoj.cloudfront.net/uploads/learning-course/images/lcourses/a111d660-d0b6-404b-86e1-6b729fbdc179-1683633265.png\" height=\"32\" src=\"https://d20evgacl8spoj.cloudfront.net/uploads/learning-course/images/lcourses/a111d660-d0b6-404b-86e1-6b729fbdc179-1683633265.png\" width=\"32\"/></div><div class=\"content-wrapper ps-2 align-middle d-flex align-items-center\"><h3 class=\"fs-16 lh-30 fw-500 label-color-5 my-1 heading-turnicate\" title=\"Java Interview Questions\">Java Interview Questions</h3></div></div></div></div></div><div class=\"mb-3 col-xl-3 col-lg-4 col-md-6\"><div class=\"h-100 new-catogory-cards card\"><div class=\"p-0 rounded-2 card-body\"><div class=\"d-flex p-3 catogary-card-body cursor-pointer d-flex align-items-center\"><div class=\"image-wrapper d-flex align-items-center justify-content-center\"><img alt=\"https://d20evgacl8spoj.cloudfront.net/uploads/learning-course/images/lcourses/bbbfd30a-e52d-4e03-ae5c-d76e95e7a22f-1647341152.png\" height=\"32\" src=\"https://d20evgacl8spoj.cloudfront.net/uploads/learning-course/images/lcourses/bbbfd30a-e52d-4e03-ae5c-d76e95e7a22f-1647341152.png\" width=\"32\"/></div><div class=\"content-wrapper ps-2 align-middle d-flex align-items-center\"><h3 class=\"fs-16 lh-30 fw-500 label-color-5 my-1 heading-turnicate\" title=\"Python Interview Questions\">Python Interview Questions</h3></div></div></div></div></div><div class=\"mb-3 col-xl-3 col-lg-4 col-md-6\"><div class=\"h-100 new-catogory-cards card\"><div class=\"p-0 rounded-2 card-body\"><div class=\"d-flex p-3 catogary-card-body cursor-pointer d-flex align-items-center\"><div class=\"image-wrapper d-flex align-items-center justify-content-center\"><img alt=\"https://d20evgacl8spoj.cloudfront.net/uploads/learning-course/images/lcourses/1d92f6e0-6c73-4cfe-97af-6c1107cb3a81-1647346526.png\" height=\"32\" src=\"https://d20evgacl8spoj.cloudfront.net/uploads/learning-course/images/lcourses/1d92f6e0-6c73-4cfe-97af-6c1107cb3a81-1647346526.png\" width=\"32\"/></div><div class=\"content-wrapper ps-2 align-middle d-flex align-items-center\"><h3 class=\"fs-16 lh-30 fw-500 label-color-5 my-1 heading-turnicate\" title=\"Android Penetration Testing Interview Questions\">Android Penetration Testing Interview Questions</h3></div></div></div></div></div><div class=\"mb-3 col-xl-3 col-lg-4 col-md-6\"><div class=\"h-100 new-catogory-cards card\"><div class=\"p-0 rounded-2 card-body\"><div class=\"d-flex p-3 catogary-card-body cursor-pointer d-flex align-items-center\"><div class=\"image-wrapper d-flex align-items-center justify-content-center\"><img alt=\"https://d20evgacl8spoj.cloudfront.net/uploads/learning-course/images/lcourses/6866b1dd-63f8-4890-8575-b9694a0f2059-1647346542.png\" height=\"32\" src=\"https://d20evgacl8spoj.cloudfront.net/uploads/learning-course/images/lcourses/6866b1dd-63f8-4890-8575-b9694a0f2059-1647346542.png\" width=\"32\"/></div><div class=\"content-wrapper ps-2 align-middle d-flex align-items-center\"><h3 class=\"fs-16 lh-30 fw-500 label-color-5 my-1 heading-turnicate\" title=\"Ethical Hacking Interview Questions\">Ethical Hacking Interview Questions</h3></div></div></div></div></div><div class=\"mb-3 col-xl-3 col-lg-4 col-md-6\"><div class=\"h-100 new-catogory-cards card\"><div class=\"p-0 rounded-2 card-body\"><div class=\"d-flex p-3 catogary-card-body cursor-pointer d-flex align-items-center\"><div class=\"image-wrapper d-flex align-items-center justify-content-center\"><img alt=\"https://d20evgacl8spoj.cloudfront.net/uploads/learning-course/images/lcourses/6f00770a-cf1d-44e6-b68b-a6cbce05d35c-1647341196.png\" height=\"32\" src=\"https://d20evgacl8spoj.cloudfront.net/uploads/learning-course/images/lcourses/6f00770a-cf1d-44e6-b68b-a6cbce05d35c-1647341196.png\" width=\"32\"/></div><div class=\"content-wrapper ps-2 align-middle d-flex align-items-center\"><h3 class=\"fs-16 lh-30 fw-500 label-color-5 my-1 heading-turnicate\" title=\"Nmap Interview Questions\">Nmap Interview Questions</h3></div></div></div></div></div><div class=\"mb-3 col-xl-3 col-lg-4 col-md-6\"><div class=\"h-100 new-catogory-cards card\"><div class=\"p-0 rounded-2 card-body\"><div class=\"d-flex p-3 catogary-card-body cursor-pointer d-flex align-items-center\"><div class=\"image-wrapper d-flex align-items-center justify-content-center\"><img alt=\"https://d20evgacl8spoj.cloudfront.net/uploads/learning-course/images/lcourses/6809478b-e2d9-40c4-bd9b-49af619fe51d-1647341184.png\" height=\"32\" src=\"https://d20evgacl8spoj.cloudfront.net/uploads/learning-course/images/lcourses/6809478b-e2d9-40c4-bd9b-49af619fe51d-1647341184.png\" width=\"32\"/></div><div class=\"content-wrapper ps-2 align-middle d-flex align-items-center\"><h3 class=\"fs-16 lh-30 fw-500 label-color-5 my-1 heading-turnicate\" title=\"Google Ads Interview Questions\">Google Ads Interview Questions</h3></div></div></div></div></div></div></div></section><section class=\"py-5\"><div class=\"container\"><div class=\"row\"><div class=\"col-lg-12\"><div class=\"text-center courses-slider-content-wrapper mx-auto mb-md-5 mb-4\"><h2 class=\"section-heading my-2\">Challenge Yourself With Free Quizzes</h2><p class=\"section-subheading mb-0\">Plenty of quizzes with time duration and skill assessment.</p></div></div></div><div class=\"row\"><div class=\"mb-3 col-xl-3 col-lg-4 col-md-6\"><div class=\"h-100 new-catogory-cards card\"><div class=\"p-0 rounded-2 card-body\"><div class=\"d-flex p-3 catogary-card-body cursor-pointer d-flex align-items-center\"><div class=\"image-wrapper d-flex align-items-center justify-content-center\"><img alt=\"https://d20evgacl8spoj.cloudfront.net/uploads/learning-course/images/lcourses/6dee8d03-5667-4b32-b483-af2b62dcd8d3-1647338788.png\" height=\"32\" src=\"https://d20evgacl8spoj.cloudfront.net/uploads/learning-course/images/lcourses/6dee8d03-5667-4b32-b483-af2b62dcd8d3-1647338788.png\" width=\"32\"/></div><div class=\"content-wrapper ps-2 align-middle d-flex align-items-center\"><h3 class=\"fs-16 lh-30 fw-500 label-color-5 my-1 heading-turnicate\" title=\"ReactJS Quiz\">ReactJS Quiz</h3></div></div></div></div></div><div class=\"mb-3 col-xl-3 col-lg-4 col-md-6\"><div class=\"h-100 new-catogory-cards card\"><div class=\"p-0 rounded-2 card-body\"><div class=\"d-flex p-3 catogary-card-body cursor-pointer d-flex align-items-center\"><div class=\"image-wrapper d-flex align-items-center justify-content-center\"><img alt=\"https://d20evgacl8spoj.cloudfront.net/uploads/learning-course/images/lcourses/7fd6b3ae-d77a-4e80-80bc-02b5b47c32df-1647346507.png\" height=\"32\" src=\"https://d20evgacl8spoj.cloudfront.net/uploads/learning-course/images/lcourses/7fd6b3ae-d77a-4e80-80bc-02b5b47c32df-1647346507.png\" width=\"32\"/></div><div class=\"content-wrapper ps-2 align-middle d-flex align-items-center\"><h3 class=\"fs-16 lh-30 fw-500 label-color-5 my-1 heading-turnicate\" title=\"Web App Penetration Testing Quiz\">Web App Penetration Testing Quiz</h3></div></div></div></div></div><div class=\"mb-3 col-xl-3 col-lg-4 col-md-6\"><div class=\"h-100 new-catogory-cards card\"><div class=\"p-0 rounded-2 card-body\"><div class=\"d-flex p-3 catogary-card-body cursor-pointer d-flex align-items-center\"><div class=\"image-wrapper d-flex align-items-center justify-content-center\"><img alt=\"https://d20evgacl8spoj.cloudfront.net/uploads/learning-course/images/lcourses/283eae7c-8974-49f2-a0a5-e0ac4c0e9215-1647338853.png\" height=\"32\" src=\"https://d20evgacl8spoj.cloudfront.net/uploads/learning-course/images/lcourses/283eae7c-8974-49f2-a0a5-e0ac4c0e9215-1647338853.png\" width=\"32\"/></div><div class=\"content-wrapper ps-2 align-middle d-flex align-items-center\"><h3 class=\"fs-16 lh-30 fw-500 label-color-5 my-1 heading-turnicate\" title=\"IoT Quiz\">IoT Quiz</h3></div></div></div></div></div><div class=\"mb-3 col-xl-3 col-lg-4 col-md-6\"><div class=\"h-100 new-catogory-cards card\"><div class=\"p-0 rounded-2 card-body\"><div class=\"d-flex p-3 catogary-card-body cursor-pointer d-flex align-items-center\"><div class=\"image-wrapper d-flex align-items-center justify-content-center\"><img alt=\"https://d20evgacl8spoj.cloudfront.net/uploads/learning-course/images/lcourses/bbbfd30a-e52d-4e03-ae5c-d76e95e7a22f-1647341152.png\" height=\"32\" src=\"https://d20evgacl8spoj.cloudfront.net/uploads/learning-course/images/lcourses/bbbfd30a-e52d-4e03-ae5c-d76e95e7a22f-1647341152.png\" width=\"32\"/></div><div class=\"content-wrapper ps-2 align-middle d-flex align-items-center\"><h3 class=\"fs-16 lh-30 fw-500 label-color-5 my-1 heading-turnicate\" title=\"Python Quiz\">Python Quiz</h3></div></div></div></div></div><div class=\"mb-3 col-xl-3 col-lg-4 col-md-6\"><div class=\"h-100 new-catogory-cards card\"><div class=\"p-0 rounded-2 card-body\"><div class=\"d-flex p-3 catogary-card-body cursor-pointer d-flex align-items-center\"><div class=\"image-wrapper d-flex align-items-center justify-content-center\"><img alt=\"https://d20evgacl8spoj.cloudfront.net/uploads/learning-course/images/lcourses/1d92f6e0-6c73-4cfe-97af-6c1107cb3a81-1647346526.png\" height=\"32\" src=\"https://d20evgacl8spoj.cloudfront.net/uploads/learning-course/images/lcourses/1d92f6e0-6c73-4cfe-97af-6c1107cb3a81-1647346526.png\" width=\"32\"/></div><div class=\"content-wrapper ps-2 align-middle d-flex align-items-center\"><h3 class=\"fs-16 lh-30 fw-500 label-color-5 my-1 heading-turnicate\" title=\"Android Penetration Testing Quiz\">Android Penetration Testing Quiz</h3></div></div></div></div></div><div class=\"mb-3 col-xl-3 col-lg-4 col-md-6\"><div class=\"h-100 new-catogory-cards card\"><div class=\"p-0 rounded-2 card-body\"><div class=\"d-flex p-3 catogary-card-body cursor-pointer d-flex align-items-center\"><div class=\"image-wrapper d-flex align-items-center justify-content-center\"><img alt=\"https://d20evgacl8spoj.cloudfront.net/uploads/learning-course/images/lcourses/6866b1dd-63f8-4890-8575-b9694a0f2059-1647346542.png\" height=\"32\" src=\"https://d20evgacl8spoj.cloudfront.net/uploads/learning-course/images/lcourses/6866b1dd-63f8-4890-8575-b9694a0f2059-1647346542.png\" width=\"32\"/></div><div class=\"content-wrapper ps-2 align-middle d-flex align-items-center\"><h3 class=\"fs-16 lh-30 fw-500 label-color-5 my-1 heading-turnicate\" title=\"Ethical Hacking Quiz\">Ethical Hacking Quiz</h3></div></div></div></div></div><div class=\"mb-3 col-xl-3 col-lg-4 col-md-6\"><div class=\"h-100 new-catogory-cards card\"><div class=\"p-0 rounded-2 card-body\"><div class=\"d-flex p-3 catogary-card-body cursor-pointer d-flex align-items-center\"><div class=\"image-wrapper d-flex align-items-center justify-content-center\"><img alt=\"https://d20evgacl8spoj.cloudfront.net/uploads/learning-course/images/lcourses/2abdc9df-3185-46bb-8d15-48f957251183-1698927883.png\" height=\"32\" src=\"https://d20evgacl8spoj.cloudfront.net/uploads/learning-course/images/lcourses/2abdc9df-3185-46bb-8d15-48f957251183-1698927883.png\" width=\"32\"/></div><div class=\"content-wrapper ps-2 align-middle d-flex align-items-center\"><h3 class=\"fs-16 lh-30 fw-500 label-color-5 my-1 heading-turnicate\" title=\"SEO Quiz\">SEO Quiz</h3></div></div></div></div></div></div></div></section><section class=\"py-5\"><div class=\"container\"><div class=\"row\"><div class=\"col-lg-12\"><div class=\"text-center mb-65 mx-auto mb-md-5 mb-4\"><h2 class=\"section-heading my-2\">Programming Examples For Practice</h2><p class=\"section-subheading mb-0\">Find coding examples with programs, output, easy explanations, and videos.</p></div></div></div><div class=\"row\"><div class=\"mb-3 col-xl-3 col-lg-4 col-md-6\"><div class=\"h-100 new-catogory-cards card\"><div class=\"p-0 rounded-2 card-body\"><div class=\"d-flex p-3 catogary-card-body cursor-pointer d-flex align-items-center\"><div class=\"image-wrapper d-flex align-items-center justify-content-center\"><img alt=\"https://d20evgacl8spoj.cloudfront.net/uploads/learning-course/images/lcourses/a111d660-d0b6-404b-86e1-6b729fbdc179-1683633265.png\" height=\"32\" src=\"https://d20evgacl8spoj.cloudfront.net/uploads/learning-course/images/lcourses/a111d660-d0b6-404b-86e1-6b729fbdc179-1683633265.png\" width=\"32\"/></div><div class=\"content-wrapper ps-2 align-middle d-flex align-items-center\"><h3 class=\"fs-16 lh-30 fw-500 label-color-5 my-1 heading-turnicate\" title=\"Java Programs\">Java Programs</h3></div></div></div></div></div><div class=\"mb-3 col-xl-3 col-lg-4 col-md-6\"><div class=\"h-100 new-catogory-cards card\"><div class=\"p-0 rounded-2 card-body\"><div class=\"d-flex p-3 catogary-card-body cursor-pointer d-flex align-items-center\"><div class=\"image-wrapper d-flex align-items-center justify-content-center\"><img alt=\"https://d20evgacl8spoj.cloudfront.net/uploads/learning-course/images/lcourses/bbbfd30a-e52d-4e03-ae5c-d76e95e7a22f-1647341152.png\" height=\"32\" src=\"https://d20evgacl8spoj.cloudfront.net/uploads/learning-course/images/lcourses/bbbfd30a-e52d-4e03-ae5c-d76e95e7a22f-1647341152.png\" width=\"32\"/></div><div class=\"content-wrapper ps-2 align-middle d-flex align-items-center\"><h3 class=\"fs-16 lh-30 fw-500 label-color-5 my-1 heading-turnicate\" title=\"Python Programs\">Python Programs</h3></div></div></div></div></div></div></div></section><section class=\"online-container-section courses-slider-section mb-4\"><div class=\"container\"><div class=\"row\"><div class=\"col-lg-12\"><div class=\"text-center mb-65 mx-auto mb-4\"><h2 class=\"section-heading my-2 text-capitalize\">UpSkill With Live online courses</h2><p class=\"section-subheading mb-0\"><img class=\"img-fluid\" height=\"40\" src=\"/images/ws-cube-tech-logo.svg\" width=\"210\"/></p></div></div><div class=\"mb-4 col-lg-4 col-md-6 col-12\"><div class=\"online-courses-card border-0 rounded-3 h-100 card\"><div class=\"p-0 card-body\"><div class=\"courses-img-box\"><img class=\"img-fluid w-100\" src=\"https://d20evgacl8spoj.cloudfront.net/uploads/images/live-course/efd015c2-41c7-4a6b-a070-0f703772b6b4-1706854302.jpg\"/></div><div class=\"card-haed p-4 pb-0\"><a href=\"https://bit.ly/web-developer-course-ws\" target=\"_blank\"><h3 class=\"fs-20 lh-30 fw-600 label-color-5 mb-2 line-clamp-1\">Full Stack Web Development Course</h3></a><div class=\"course-info-list\"><ul>\n",
              "<li>Build High-Paying Career</li>\n",
              "<li>Work on 10+ Projects</li>\n",
              "<li>Live Training by Experts</li>\n",
              "</ul>\n",
              "</div></div></div><div class=\"bg-white border-0 p-3 card-footer\"><a href=\"https://bit.ly/web-developer-course-ws\" target=\"_blank\"><button class=\"tf-button setup-btn me-sm-3 me-2 exp-all-btn\">Book Demo Class<svg aria-hidden=\"true\" class=\"svg-inline--fa fa-arrow-right ms-2\" data-icon=\"arrow-right\" data-prefix=\"fas\" focusable=\"false\" height=\"12\" role=\"img\" viewbox=\"0 0 448 512\" width=\"12\" xmlns=\"http://www.w3.org/2000/svg\"><path d=\"M438.6 278.6l-160 160C272.4 444.9 264.2 448 256 448s-16.38-3.125-22.62-9.375c-12.5-12.5-12.5-32.75 0-45.25L338.8 288H32C14.33 288 .0016 273.7 .0016 256S14.33 224 32 224h306.8l-105.4-105.4c-12.5-12.5-12.5-32.75 0-45.25s32.75-12.5 45.25 0l160 160C451.1 245.9 451.1 266.1 438.6 278.6z\" fill=\"currentColor\"></path></svg></button></a></div></div></div><div class=\"mb-4 col-lg-4 col-md-6 col-12\"><div class=\"online-courses-card border-0 rounded-3 h-100 card\"><div class=\"p-0 card-body\"><div class=\"courses-img-box\"><img class=\"img-fluid w-100\" src=\"https://d20evgacl8spoj.cloudfront.net/uploads/images/live-course/15bc3a4a-e684-45b9-b22a-d156711f1505-1706854288.jpg\"/></div><div class=\"card-haed p-4 pb-0\"><a href=\"https://bit.ly/digital-marketing-course-ws\" target=\"_blank\"><h3 class=\"fs-20 lh-30 fw-600 label-color-5 mb-2 line-clamp-1\">Digital Marketing Course</h3></a><div class=\"course-info-list\"><ul>\n",
              "<li>₹10 Lakh Per Year Average Salary</li>\n",
              "<li>Live Mentorship &amp; Guidance</li>\n",
              "<li>Hands-on Real Projects</li>\n",
              "</ul>\n",
              "</div></div></div><div class=\"bg-white border-0 p-3 card-footer\"><a href=\"https://bit.ly/digital-marketing-course-ws\" target=\"_blank\"><button class=\"tf-button setup-btn me-sm-3 me-2 exp-all-btn\">Book Demo Class<svg aria-hidden=\"true\" class=\"svg-inline--fa fa-arrow-right ms-2\" data-icon=\"arrow-right\" data-prefix=\"fas\" focusable=\"false\" height=\"12\" role=\"img\" viewbox=\"0 0 448 512\" width=\"12\" xmlns=\"http://www.w3.org/2000/svg\"><path d=\"M438.6 278.6l-160 160C272.4 444.9 264.2 448 256 448s-16.38-3.125-22.62-9.375c-12.5-12.5-12.5-32.75 0-45.25L338.8 288H32C14.33 288 .0016 273.7 .0016 256S14.33 224 32 224h306.8l-105.4-105.4c-12.5-12.5-12.5-32.75 0-45.25s32.75-12.5 45.25 0l160 160C451.1 245.9 451.1 266.1 438.6 278.6z\" fill=\"currentColor\"></path></svg></button></a></div></div></div><div class=\"mb-4 col-lg-4 col-md-6 col-12\"><div class=\"online-courses-card border-0 rounded-3 h-100 card\"><div class=\"p-0 card-body\"><div class=\"courses-img-box\"><img class=\"img-fluid w-100\" src=\"https://d20evgacl8spoj.cloudfront.net/uploads/images/live-course/3bc94ced-cf7a-4d08-9a65-581c38fb14c2-1706854314.jpg\"/></div><div class=\"card-haed p-4 pb-0\"><a href=\"https://bit.ly/seo-course-ws\" target=\"_blank\"><h3 class=\"fs-20 lh-30 fw-600 label-color-5 mb-2 line-clamp-1\">SEO Course</h3></a><div class=\"course-info-list\"><ul>\n",
              "<li>Become Certified SEO Pro</li>\n",
              "<li>Live Mentorship &amp; Guidance</li>\n",
              "<li>Free Domain, Web Hosting, Projects</li>\n",
              "</ul>\n",
              "</div></div></div><div class=\"bg-white border-0 p-3 card-footer\"><a href=\"https://bit.ly/seo-course-ws\" target=\"_blank\"><button class=\"tf-button setup-btn me-sm-3 me-2 exp-all-btn\">Book Demo Class<svg aria-hidden=\"true\" class=\"svg-inline--fa fa-arrow-right ms-2\" data-icon=\"arrow-right\" data-prefix=\"fas\" focusable=\"false\" height=\"12\" role=\"img\" viewbox=\"0 0 448 512\" width=\"12\" xmlns=\"http://www.w3.org/2000/svg\"><path d=\"M438.6 278.6l-160 160C272.4 444.9 264.2 448 256 448s-16.38-3.125-22.62-9.375c-12.5-12.5-12.5-32.75 0-45.25L338.8 288H32C14.33 288 .0016 273.7 .0016 256S14.33 224 32 224h306.8l-105.4-105.4c-12.5-12.5-12.5-32.75 0-45.25s32.75-12.5 45.25 0l160 160C451.1 245.9 451.1 266.1 438.6 278.6z\" fill=\"currentColor\"></path></svg></button></a></div></div></div><div class=\"mb-4 col-lg-4 col-md-6 col-12\"><div class=\"online-courses-card border-0 rounded-3 h-100 card\"><div class=\"p-0 card-body\"><div class=\"courses-img-box\"><img class=\"img-fluid w-100\" src=\"https://d20evgacl8spoj.cloudfront.net/uploads/images/live-course/60d7ca0f-7dc9-4d96-a9b5-155fd32ebda8-1706854405.jpg\"/></div><div class=\"card-haed p-4 pb-0\"><a href=\"https://www.wscubetech.com/online-python-certification-course-india.html?utm_source=TutorialsFreak&amp;utm_medium=python-tutorial&amp;utm_campaign=leads\" target=\"_blank\"><h3 class=\"fs-20 lh-30 fw-600 label-color-5 mb-2 line-clamp-1\">Python Certification Course</h3></a><div class=\"course-info-list\"><ul>\n",
              "<li>45-days training</li>\n",
              "<li>Hands-on projects</li>\n",
              "<li>Expert mentorship</li>\n",
              "</ul>\n",
              "</div></div></div><div class=\"bg-white border-0 p-3 card-footer\"><a href=\"https://www.wscubetech.com/online-python-certification-course-india.html?utm_source=TutorialsFreak&amp;utm_medium=python-tutorial&amp;utm_campaign=leads\" target=\"_blank\"><button class=\"tf-button setup-btn me-sm-3 me-2 exp-all-btn\">Book Demo Class<svg aria-hidden=\"true\" class=\"svg-inline--fa fa-arrow-right ms-2\" data-icon=\"arrow-right\" data-prefix=\"fas\" focusable=\"false\" height=\"12\" role=\"img\" viewbox=\"0 0 448 512\" width=\"12\" xmlns=\"http://www.w3.org/2000/svg\"><path d=\"M438.6 278.6l-160 160C272.4 444.9 264.2 448 256 448s-16.38-3.125-22.62-9.375c-12.5-12.5-12.5-32.75 0-45.25L338.8 288H32C14.33 288 .0016 273.7 .0016 256S14.33 224 32 224h306.8l-105.4-105.4c-12.5-12.5-12.5-32.75 0-45.25s32.75-12.5 45.25 0l160 160C451.1 245.9 451.1 266.1 438.6 278.6z\" fill=\"currentColor\"></path></svg></button></a></div></div></div><div class=\"mb-4 col-lg-4 col-md-6 col-12\"><div class=\"online-courses-card border-0 rounded-3 h-100 card\"><div class=\"p-0 card-body\"><div class=\"courses-img-box\"><img class=\"img-fluid w-100\" src=\"https://d20evgacl8spoj.cloudfront.net/uploads/images/live-course/948a0a2c-3199-44b3-a1c2-be41e5c5c3e1-1706854606.jpg\"/></div><div class=\"card-haed p-4 pb-0\"><a href=\"https://www.wscubetech.com/online-data-analytics-course.html?utm_source=TutorialsFreak&amp;utm_medium=ai-tutorial&amp;utm_campaign=leads\" target=\"_blank\"><h3 class=\"fs-20 lh-30 fw-600 label-color-5 mb-2 line-clamp-1\">Data Analytics Course</h3></a><div class=\"course-info-list\"><ul>\n",
              "<li>Develop job-ready skills</li>\n",
              "<li>Project-based approach</li>\n",
              "<li>Certification &amp; mentorship</li>\n",
              "</ul>\n",
              "</div></div></div><div class=\"bg-white border-0 p-3 card-footer\"><a href=\"https://www.wscubetech.com/online-data-analytics-course.html?utm_source=TutorialsFreak&amp;utm_medium=ai-tutorial&amp;utm_campaign=leads\" target=\"_blank\"><button class=\"tf-button setup-btn me-sm-3 me-2 exp-all-btn\">Book Demo Class<svg aria-hidden=\"true\" class=\"svg-inline--fa fa-arrow-right ms-2\" data-icon=\"arrow-right\" data-prefix=\"fas\" focusable=\"false\" height=\"12\" role=\"img\" viewbox=\"0 0 448 512\" width=\"12\" xmlns=\"http://www.w3.org/2000/svg\"><path d=\"M438.6 278.6l-160 160C272.4 444.9 264.2 448 256 448s-16.38-3.125-22.62-9.375c-12.5-12.5-12.5-32.75 0-45.25L338.8 288H32C14.33 288 .0016 273.7 .0016 256S14.33 224 32 224h306.8l-105.4-105.4c-12.5-12.5-12.5-32.75 0-45.25s32.75-12.5 45.25 0l160 160C451.1 245.9 451.1 266.1 438.6 278.6z\" fill=\"currentColor\"></path></svg></button></a></div></div></div><div class=\"mb-4 col-lg-4 col-md-6 col-12\"><div class=\"online-courses-card border-0 rounded-3 h-100 card\"><div class=\"p-0 card-body\"><div class=\"courses-img-box\"><img class=\"img-fluid w-100\" src=\"https://d20evgacl8spoj.cloudfront.net/uploads/images/live-course/34497f12-312c-4827-8dae-7d7914314e74-1706854737.jpg\"/></div><div class=\"card-haed p-4 pb-0\"><a href=\"https://www.wscubetech.com/online-ethical-hacking-course.html?utm_source=TutorialsFreak&amp;utm_medium=eh-tutorial&amp;utm_campaign=leads\" target=\"_blank\"><h3 class=\"fs-20 lh-30 fw-600 label-color-5 mb-2 line-clamp-1\">Ethical Hacking Course</h3></a><div class=\"course-info-list\"><ul>\n",
              "<li>2 months training</li>\n",
              "<li>100% practical</li>\n",
              "<li>Get certified</li>\n",
              "</ul>\n",
              "</div></div></div><div class=\"bg-white border-0 p-3 card-footer\"><a href=\"https://www.wscubetech.com/online-ethical-hacking-course.html?utm_source=TutorialsFreak&amp;utm_medium=eh-tutorial&amp;utm_campaign=leads\" target=\"_blank\"><button class=\"tf-button setup-btn me-sm-3 me-2 exp-all-btn\">Book Demo Class<svg aria-hidden=\"true\" class=\"svg-inline--fa fa-arrow-right ms-2\" data-icon=\"arrow-right\" data-prefix=\"fas\" focusable=\"false\" height=\"12\" role=\"img\" viewbox=\"0 0 448 512\" width=\"12\" xmlns=\"http://www.w3.org/2000/svg\"><path d=\"M438.6 278.6l-160 160C272.4 444.9 264.2 448 256 448s-16.38-3.125-22.62-9.375c-12.5-12.5-12.5-32.75 0-45.25L338.8 288H32C14.33 288 .0016 273.7 .0016 256S14.33 224 32 224h306.8l-105.4-105.4c-12.5-12.5-12.5-32.75 0-45.25s32.75-12.5 45.25 0l160 160C451.1 245.9 451.1 266.1 438.6 278.6z\" fill=\"currentColor\"></path></svg></button></a></div></div></div></div></div></section><section class=\"setup-section\"><div class=\"container\"><div class=\"setup-wrapper bg-grey position-relative mb-5 mb-lg-0\"><div class=\"content-wrapper mx-auto text-center\"><h2 class=\"section-heading mb-md-3\">Create your free account now on Tutorials Freak and unlock the entire content!</h2><p class=\"section-subheading pb-lg-5\">With an account, you get access to premium content and courses at no cost.</p><button class=\"tf-button setup-btn me-sm-3 me-2 exp-all-btn\">Explore All Courses</button><button class=\"tf-button setup-btn\" title=\"Start Learning!\">Start Learning!</button></div></div></div></section><section class=\"get-learning-section\"><div class=\"container\"><div class=\"align-items-center row\"><div class=\"col-lg-6\"><div class=\"learning-content-wrapper pb-5 text-center text-lg-start\"><h2 class=\"section-heading\">Get Tutorials Freak Mobile App to Learn on The Go!</h2><p class=\"section-subheading pe-md-5\">Download the app now to learn and practice hassle-free.</p><div class=\"get-learning-left-img-wrapper\"><a href=\"https://play.google.com/store/apps/details?id=com.tutorialsfreak\" target=\"_blank\"><img alt=\"Google-Play-Img\" src=\"/images/play-store.png\"/></a></div></div></div><div class=\"col-lg-6\"><div class=\"text-center text-lg-start\"><img alt=\"Phone-Img\" class=\"img-fluid\" loading=\"lazy\" src=\"https://d20evgacl8spoj.cloudfront.net/uploads/learning-course/images/home-page/3d2ca30d-f3bd-45b7-aae5-2c547e2a35a2-1690631574.webp\"/></div></div></div></div></section><section class=\"learning-apps-section pt-4 pb-5 d-none\"><div class=\"container\"><div class=\"learning-apps-row row\"><div class=\"apps-card-wrapper\"><svg aria-labelledby=\"nzu10jmh-aria\" height=\"280\" id=\"0\" role=\"img\" style=\"margin-top:0;margin-bottom:0;border:1px solid #dedede;border-radius:10px\" width=\"240\"><title id=\"nzu10jmh-aria\">Loading...</title><rect clip-path=\"url(#nzu10jmh-diff)\" height=\"100%\" role=\"presentation\" style=\"fill:url(#nzu10jmh-animated-diff)\" width=\"100%\" x=\"0\" y=\"0\"></rect><defs><clippath id=\"nzu10jmh-diff\"><rect height=\"60\" rx=\"10\" ry=\"10\" width=\"60\" x=\"10\" y=\"20\"></rect><rect height=\"6\" rx=\"3\" ry=\"3\" width=\"150\" x=\"10\" y=\"90\"></rect><rect height=\"6\" rx=\"3\" ry=\"3\" width=\"130\" x=\"10\" y=\"100\"></rect><rect height=\"100\" rx=\"10\" ry=\"10\" width=\"218\" x=\"10\" y=\"120\"></rect><rect height=\"15\" rx=\"8\" ry=\"8\" width=\"100\" x=\"10\" y=\"240\"></rect></clippath><lineargradient id=\"nzu10jmh-animated-diff\"><stop offset=\"0%\" stop-color=\"#f0f0f0\" stop-opacity=\"1\"><animate attributename=\"offset\" dur=\"1.2s\" keytimes=\"0; 0.25; 1\" repeatcount=\"indefinite\" values=\"-2; -2; 1\"></animate></stop><stop offset=\"50%\" stop-color=\"#dedede\" stop-opacity=\"1\"><animate attributename=\"offset\" dur=\"1.2s\" keytimes=\"0; 0.25; 1\" repeatcount=\"indefinite\" values=\"-1; -1; 2\"></animate></stop><stop offset=\"100%\" stop-color=\"#f0f0f0\" stop-opacity=\"1\"><animate attributename=\"offset\" dur=\"1.2s\" keytimes=\"0; 0.25; 1\" repeatcount=\"indefinite\" values=\"0; 0; 3\"></animate></stop></lineargradient></defs></svg></div><div class=\"apps-card-wrapper\"><svg aria-labelledby=\"v167kgi-aria\" height=\"280\" id=\"1\" role=\"img\" style=\"margin-top:0;margin-bottom:0;border:1px solid #dedede;border-radius:10px\" width=\"240\"><title id=\"v167kgi-aria\">Loading...</title><rect clip-path=\"url(#v167kgi-diff)\" height=\"100%\" role=\"presentation\" style=\"fill:url(#v167kgi-animated-diff)\" width=\"100%\" x=\"0\" y=\"0\"></rect><defs><clippath id=\"v167kgi-diff\"><rect height=\"60\" rx=\"10\" ry=\"10\" width=\"60\" x=\"10\" y=\"20\"></rect><rect height=\"6\" rx=\"3\" ry=\"3\" width=\"150\" x=\"10\" y=\"90\"></rect><rect height=\"6\" rx=\"3\" ry=\"3\" width=\"130\" x=\"10\" y=\"100\"></rect><rect height=\"100\" rx=\"10\" ry=\"10\" width=\"218\" x=\"10\" y=\"120\"></rect><rect height=\"15\" rx=\"8\" ry=\"8\" width=\"100\" x=\"10\" y=\"240\"></rect></clippath><lineargradient id=\"v167kgi-animated-diff\"><stop offset=\"0%\" stop-color=\"#f0f0f0\" stop-opacity=\"1\"><animate attributename=\"offset\" dur=\"1.2s\" keytimes=\"0; 0.25; 1\" repeatcount=\"indefinite\" values=\"-2; -2; 1\"></animate></stop><stop offset=\"50%\" stop-color=\"#dedede\" stop-opacity=\"1\"><animate attributename=\"offset\" dur=\"1.2s\" keytimes=\"0; 0.25; 1\" repeatcount=\"indefinite\" values=\"-1; -1; 2\"></animate></stop><stop offset=\"100%\" stop-color=\"#f0f0f0\" stop-opacity=\"1\"><animate attributename=\"offset\" dur=\"1.2s\" keytimes=\"0; 0.25; 1\" repeatcount=\"indefinite\" values=\"0; 0; 3\"></animate></stop></lineargradient></defs></svg></div><div class=\"apps-card-wrapper\"><svg aria-labelledby=\"5ncllol-aria\" height=\"280\" id=\"2\" role=\"img\" style=\"margin-top:0;margin-bottom:0;border:1px solid #dedede;border-radius:10px\" width=\"240\"><title id=\"5ncllol-aria\">Loading...</title><rect clip-path=\"url(#5ncllol-diff)\" height=\"100%\" role=\"presentation\" style=\"fill:url(#5ncllol-animated-diff)\" width=\"100%\" x=\"0\" y=\"0\"></rect><defs><clippath id=\"5ncllol-diff\"><rect height=\"60\" rx=\"10\" ry=\"10\" width=\"60\" x=\"10\" y=\"20\"></rect><rect height=\"6\" rx=\"3\" ry=\"3\" width=\"150\" x=\"10\" y=\"90\"></rect><rect height=\"6\" rx=\"3\" ry=\"3\" width=\"130\" x=\"10\" y=\"100\"></rect><rect height=\"100\" rx=\"10\" ry=\"10\" width=\"218\" x=\"10\" y=\"120\"></rect><rect height=\"15\" rx=\"8\" ry=\"8\" width=\"100\" x=\"10\" y=\"240\"></rect></clippath><lineargradient id=\"5ncllol-animated-diff\"><stop offset=\"0%\" stop-color=\"#f0f0f0\" stop-opacity=\"1\"><animate attributename=\"offset\" dur=\"1.2s\" keytimes=\"0; 0.25; 1\" repeatcount=\"indefinite\" values=\"-2; -2; 1\"></animate></stop><stop offset=\"50%\" stop-color=\"#dedede\" stop-opacity=\"1\"><animate attributename=\"offset\" dur=\"1.2s\" keytimes=\"0; 0.25; 1\" repeatcount=\"indefinite\" values=\"-1; -1; 2\"></animate></stop><stop offset=\"100%\" stop-color=\"#f0f0f0\" stop-opacity=\"1\"><animate attributename=\"offset\" dur=\"1.2s\" keytimes=\"0; 0.25; 1\" repeatcount=\"indefinite\" values=\"0; 0; 3\"></animate></stop></lineargradient></defs></svg></div><div class=\"apps-card-wrapper\"><svg aria-labelledby=\"lbxwpp-aria\" height=\"280\" id=\"3\" role=\"img\" style=\"margin-top:0;margin-bottom:0;border:1px solid #dedede;border-radius:10px\" width=\"240\"><title id=\"lbxwpp-aria\">Loading...</title><rect clip-path=\"url(#lbxwpp-diff)\" height=\"100%\" role=\"presentation\" style=\"fill:url(#lbxwpp-animated-diff)\" width=\"100%\" x=\"0\" y=\"0\"></rect><defs><clippath id=\"lbxwpp-diff\"><rect height=\"60\" rx=\"10\" ry=\"10\" width=\"60\" x=\"10\" y=\"20\"></rect><rect height=\"6\" rx=\"3\" ry=\"3\" width=\"150\" x=\"10\" y=\"90\"></rect><rect height=\"6\" rx=\"3\" ry=\"3\" width=\"130\" x=\"10\" y=\"100\"></rect><rect height=\"100\" rx=\"10\" ry=\"10\" width=\"218\" x=\"10\" y=\"120\"></rect><rect height=\"15\" rx=\"8\" ry=\"8\" width=\"100\" x=\"10\" y=\"240\"></rect></clippath><lineargradient id=\"lbxwpp-animated-diff\"><stop offset=\"0%\" stop-color=\"#f0f0f0\" stop-opacity=\"1\"><animate attributename=\"offset\" dur=\"1.2s\" keytimes=\"0; 0.25; 1\" repeatcount=\"indefinite\" values=\"-2; -2; 1\"></animate></stop><stop offset=\"50%\" stop-color=\"#dedede\" stop-opacity=\"1\"><animate attributename=\"offset\" dur=\"1.2s\" keytimes=\"0; 0.25; 1\" repeatcount=\"indefinite\" values=\"-1; -1; 2\"></animate></stop><stop offset=\"100%\" stop-color=\"#f0f0f0\" stop-opacity=\"1\"><animate attributename=\"offset\" dur=\"1.2s\" keytimes=\"0; 0.25; 1\" repeatcount=\"indefinite\" values=\"0; 0; 3\"></animate></stop></lineargradient></defs></svg></div><div class=\"apps-card-wrapper\"><svg aria-labelledby=\"10b0gg-aria\" height=\"280\" id=\"4\" role=\"img\" style=\"margin-top:0;margin-bottom:0;border:1px solid #dedede;border-radius:10px\" width=\"240\"><title id=\"10b0gg-aria\">Loading...</title><rect clip-path=\"url(#10b0gg-diff)\" height=\"100%\" role=\"presentation\" style=\"fill:url(#10b0gg-animated-diff)\" width=\"100%\" x=\"0\" y=\"0\"></rect><defs><clippath id=\"10b0gg-diff\"><rect height=\"60\" rx=\"10\" ry=\"10\" width=\"60\" x=\"10\" y=\"20\"></rect><rect height=\"6\" rx=\"3\" ry=\"3\" width=\"150\" x=\"10\" y=\"90\"></rect><rect height=\"6\" rx=\"3\" ry=\"3\" width=\"130\" x=\"10\" y=\"100\"></rect><rect height=\"100\" rx=\"10\" ry=\"10\" width=\"218\" x=\"10\" y=\"120\"></rect><rect height=\"15\" rx=\"8\" ry=\"8\" width=\"100\" x=\"10\" y=\"240\"></rect></clippath><lineargradient id=\"10b0gg-animated-diff\"><stop offset=\"0%\" stop-color=\"#f0f0f0\" stop-opacity=\"1\"><animate attributename=\"offset\" dur=\"1.2s\" keytimes=\"0; 0.25; 1\" repeatcount=\"indefinite\" values=\"-2; -2; 1\"></animate></stop><stop offset=\"50%\" stop-color=\"#dedede\" stop-opacity=\"1\"><animate attributename=\"offset\" dur=\"1.2s\" keytimes=\"0; 0.25; 1\" repeatcount=\"indefinite\" values=\"-1; -1; 2\"></animate></stop><stop offset=\"100%\" stop-color=\"#f0f0f0\" stop-opacity=\"1\"><animate attributename=\"offset\" dur=\"1.2s\" keytimes=\"0; 0.25; 1\" repeatcount=\"indefinite\" values=\"0; 0; 3\"></animate></stop></lineargradient></defs></svg></div></div></div></section></div>"
            ]
          },
          "metadata": {},
          "execution_count": 29
        }
      ]
    },
    {
      "cell_type": "code",
      "source": [
        "class_data.find_all(\"p\")"
      ],
      "metadata": {
        "colab": {
          "base_uri": "https://localhost:8080/"
        },
        "id": "6yOr6w4FtYLM",
        "outputId": "ad437e3c-9fdb-4491-df0c-636ddd963fb8"
      },
      "execution_count": 30,
      "outputs": [
        {
          "output_type": "execute_result",
          "data": {
            "text/plain": [
              "[<p class=\"section-subheading\">Kickstart effective learning with Tutorials Freak, with new content published every day.</p>,\n",
              " <p class=\"fs-16 fw-400 lh-24 label-color-1 card-text\">The entire content on the site is verified by pro developers and tech freaks.</p>,\n",
              " <p class=\"fs-16 fw-400 lh-24 label-color-1 card-text\">The entire content on the site is verified by pro developers and tech freaks. Enabling self-directed learning so that you can learn at your pace and shape your own path.</p>,\n",
              " <p class=\"fs-16 fw-400 lh-24 label-color-1 card-text\">Along with simplified tutorials, you get video content created by industry experts.</p>,\n",
              " <p class=\"fw-400 fs-20 lh-30 label-color-2 mb-lg-5\">Learning programming and technical things can be complex. We are here to make it easy with simple and interactive tutorials.</p>,\n",
              " <p class=\"section-subheading mb-0\">Learning programming and technical things can be complex. We are here to make it easy with simple and interactive tutorials.</p>,\n",
              " <p class=\"section-subheading mb-0\">Explore the expert-curated interview questions with answers.</p>,\n",
              " <p class=\"section-subheading mb-0\">Plenty of quizzes with time duration and skill assessment.</p>,\n",
              " <p class=\"section-subheading mb-0\">Find coding examples with programs, output, easy explanations, and videos.</p>,\n",
              " <p class=\"section-subheading mb-0\"><img class=\"img-fluid\" height=\"40\" src=\"/images/ws-cube-tech-logo.svg\" width=\"210\"/></p>,\n",
              " <p class=\"section-subheading pb-lg-5\">With an account, you get access to premium content and courses at no cost.</p>,\n",
              " <p class=\"section-subheading pe-md-5\">Download the app now to learn and practice hassle-free.</p>]"
            ]
          },
          "metadata": {},
          "execution_count": 30
        }
      ]
    },
    {
      "cell_type": "code",
      "source": [
        "id_data = soup.find(\"div\",id=\"app-frontend\")"
      ],
      "metadata": {
        "id": "DeY1F6z1t60h"
      },
      "execution_count": 31,
      "outputs": []
    },
    {
      "cell_type": "code",
      "source": [
        "id_data"
      ],
      "metadata": {
        "id": "sH1kmSxguLqA"
      },
      "execution_count": 32,
      "outputs": []
    },
    {
      "cell_type": "markdown",
      "source": [
        "# EXTRACTING TEXT FROM THE TAGS IN WEB PAGE USING PYTHON"
      ],
      "metadata": {
        "id": "OfE8pKriufgi"
      }
    },
    {
      "cell_type": "code",
      "source": [
        "lines = soup.find_all(\"p\")"
      ],
      "metadata": {
        "id": "JaNalDmbua2E"
      },
      "execution_count": 34,
      "outputs": []
    },
    {
      "cell_type": "code",
      "source": [
        "for l in lines:\n",
        "  print(l.text)"
      ],
      "metadata": {
        "colab": {
          "base_uri": "https://localhost:8080/"
        },
        "id": "FUSXkRW3uyjW",
        "outputId": "3edbe4ef-f560-46ed-a0f1-1a7afd09d5a7"
      },
      "execution_count": 35,
      "outputs": [
        {
          "output_type": "stream",
          "name": "stdout",
          "text": [
            "Kickstart effective learning with Tutorials Freak, with new content published every day.\n",
            "The entire content on the site is verified by pro developers and tech freaks.\n",
            "The entire content on the site is verified by pro developers and tech freaks. Enabling self-directed learning so that you can learn at your pace and shape your own path.\n",
            "Along with simplified tutorials, you get video content created by industry experts.\n",
            "Learning programming and technical things can be complex. We are here to make it easy with simple and interactive tutorials.\n",
            "Learning programming and technical things can be complex. We are here to make it easy with simple and interactive tutorials.\n",
            "Explore the expert-curated interview questions with answers.\n",
            "Plenty of quizzes with time duration and skill assessment.\n",
            "Find coding examples with programs, output, easy explanations, and videos.\n",
            "\n",
            "With an account, you get access to premium content and courses at no cost.\n",
            "Download the app now to learn and practice hassle-free.\n",
            "©  Tutorials Freak . All Rights Reserved | Design By  WsCube Tech\n"
          ]
        }
      ]
    },
    {
      "cell_type": "code",
      "source": [
        "s=soup.find(\"div\",class_=\"why-choose-us-img\")"
      ],
      "metadata": {
        "id": "I82h5pSsu0e2"
      },
      "execution_count": 47,
      "outputs": []
    },
    {
      "cell_type": "code",
      "source": [
        "s.string"
      ],
      "metadata": {
        "id": "wFiDUzRKx5aG"
      },
      "execution_count": 49,
      "outputs": []
    },
    {
      "cell_type": "markdown",
      "source": [
        "# EXTRACTING LINKS IN WEB PAGE USING PYHTON"
      ],
      "metadata": {
        "id": "B48UWlaDyL0e"
      }
    },
    {
      "cell_type": "code",
      "source": [
        "for i in soup.find_all(\"a\"):\n",
        "  print(i.get(\"href\"))"
      ],
      "metadata": {
        "colab": {
          "base_uri": "https://localhost:8080/"
        },
        "id": "Qyj90aH4x6oi",
        "outputId": "a404688c-3150-4645-d862-c95c1df30eda"
      },
      "execution_count": 50,
      "outputs": [
        {
          "output_type": "stream",
          "name": "stdout",
          "text": [
            "/\n",
            "/search\n",
            "/\n",
            "/\n",
            "/\n",
            "/\n",
            "/\n",
            "/\n",
            "/\n",
            "/\n",
            "/compiler/c\n",
            "/compiler/css\n",
            "/compiler/html\n",
            "/compiler/jquery\n",
            "/compiler/cpp\n",
            "/compiler/php\n",
            "/compiler/python\n",
            "https://bit.ly/web-developer-course-ws\n",
            "https://bit.ly/web-developer-course-ws\n",
            "https://bit.ly/digital-marketing-course-ws\n",
            "https://bit.ly/digital-marketing-course-ws\n",
            "https://bit.ly/seo-course-ws\n",
            "https://bit.ly/seo-course-ws\n",
            "https://www.wscubetech.com/online-python-certification-course-india.html?utm_source=TutorialsFreak&utm_medium=python-tutorial&utm_campaign=leads\n",
            "https://www.wscubetech.com/online-python-certification-course-india.html?utm_source=TutorialsFreak&utm_medium=python-tutorial&utm_campaign=leads\n",
            "https://www.wscubetech.com/online-data-analytics-course.html?utm_source=TutorialsFreak&utm_medium=ai-tutorial&utm_campaign=leads\n",
            "https://www.wscubetech.com/online-data-analytics-course.html?utm_source=TutorialsFreak&utm_medium=ai-tutorial&utm_campaign=leads\n",
            "https://www.wscubetech.com/online-ethical-hacking-course.html?utm_source=TutorialsFreak&utm_medium=eh-tutorial&utm_campaign=leads\n",
            "https://www.wscubetech.com/online-ethical-hacking-course.html?utm_source=TutorialsFreak&utm_medium=eh-tutorial&utm_campaign=leads\n",
            "https://play.google.com/store/apps/details?id=com.tutorialsfreak\n",
            "/\n",
            "https://www.facebook.com/tutorialsfreak\n",
            "https://twitter.com/TutorialsFreak\n",
            "https://www.instagram.com/tutorials_freak/\n",
            "https://www.linkedin.com/company/tutorialsfreak/\n",
            "/terms-conditons\n",
            "/privacy-policy\n",
            "/about-us\n",
            "/contact-us\n",
            "https://www.wscubetech.com/\n"
          ]
        }
      ]
    },
    {
      "cell_type": "markdown",
      "source": [
        "# EXTRACTING IMAGE OF A WEBSITE USING PYTHON"
      ],
      "metadata": {
        "id": "faso5BS5yk7_"
      }
    },
    {
      "cell_type": "code",
      "source": [
        "img = soup.find_all(\"img\")"
      ],
      "metadata": {
        "id": "05acRQXbyeOW"
      },
      "execution_count": 51,
      "outputs": []
    },
    {
      "cell_type": "code",
      "source": [
        "img"
      ],
      "metadata": {
        "colab": {
          "base_uri": "https://localhost:8080/"
        },
        "id": "B7-KImmCy13I",
        "outputId": "e9a780ae-db0d-45fe-97d5-100461719237"
      },
      "execution_count": 52,
      "outputs": [
        {
          "output_type": "execute_result",
          "data": {
            "text/plain": [
              "[<img alt=\"\" aria-hidden=\"true\" src=\"data:image/svg+xml,%3csvg%20xmlns=%27http://www.w3.org/2000/svg%27%20version=%271.1%27%20width=%27192%27%20height=%2756%27/%3e\" style=\"display:block;max-width:100%;width:initial;height:initial;background:none;opacity:1;border:0;margin:0;padding:0\"/>,\n",
              " <img alt=\"Logo-Img\" class=\"img-fluid\" data-nimg=\"intrinsic\" decoding=\"async\" src=\"data:image/gif;base64,R0lGODlhAQABAIAAAAAAAP///yH5BAEAAAAALAAAAAABAAEAAAIBRAA7\" style=\"position:absolute;top:0;left:0;bottom:0;right:0;box-sizing:border-box;padding:0;border:none;margin:auto;display:block;width:0;height:0;min-width:100%;max-width:100%;min-height:100%;max-height:100%\"/>,\n",
              " <img alt=\"Logo-Img\" class=\"img-fluid\" data-nimg=\"intrinsic\" decoding=\"async\" loading=\"lazy\" src=\"/images/tutorials-freak-logo.svg\" srcset=\"/images/tutorials-freak-logo.svg 1x, /images/tutorials-freak-logo.svg 2x\" style=\"position:absolute;top:0;left:0;bottom:0;right:0;box-sizing:border-box;padding:0;border:none;margin:auto;display:block;width:0;height:0;min-width:100%;max-width:100%;min-height:100%;max-height:100%\"/>,\n",
              " <img alt=\"Serch-Img\" src=\"/images/search.svg\"/>,\n",
              " <img alt=\"Banner-Img\" class=\"img-fluid\" data-nimg=\"responsive\" decoding=\"async\" src=\"data:image/gif;base64,R0lGODlhAQABAIAAAAAAAP///yH5BAEAAAAALAAAAAABAAEAAAIBRAA7\" style=\"position:absolute;top:0;left:0;bottom:0;right:0;box-sizing:border-box;padding:0;border:none;margin:auto;display:block;width:0;height:0;min-width:100%;max-width:100%;min-height:100%;max-height:100%\"/>,\n",
              " <img alt=\"Banner-Img\" class=\"img-fluid\" data-nimg=\"responsive\" decoding=\"async\" loading=\"lazy\" sizes=\"100vw\" src=\"/_next/image?url=%2Fimages%2Fbanner-middle.webp&amp;w=3840&amp;q=75\" srcset=\"/_next/image?url=%2Fimages%2Fbanner-middle.webp&amp;w=640&amp;q=75 640w, /_next/image?url=%2Fimages%2Fbanner-middle.webp&amp;w=750&amp;q=75 750w, /_next/image?url=%2Fimages%2Fbanner-middle.webp&amp;w=828&amp;q=75 828w, /_next/image?url=%2Fimages%2Fbanner-middle.webp&amp;w=1080&amp;q=75 1080w, /_next/image?url=%2Fimages%2Fbanner-middle.webp&amp;w=1200&amp;q=75 1200w, /_next/image?url=%2Fimages%2Fbanner-middle.webp&amp;w=1920&amp;q=75 1920w, /_next/image?url=%2Fimages%2Fbanner-middle.webp&amp;w=2048&amp;q=75 2048w, /_next/image?url=%2Fimages%2Fbanner-middle.webp&amp;w=3840&amp;q=75 3840w\" style=\"position:absolute;top:0;left:0;bottom:0;right:0;box-sizing:border-box;padding:0;border:none;margin:auto;display:block;width:0;height:0;min-width:100%;max-width:100%;min-height:100%;max-height:100%\"/>,\n",
              " <img alt=\"Course-Img\" src=\"/images/kotlin-img.svg\"/>,\n",
              " <img alt=\"Course-Img\" src=\"/images/eagle-img.svg\"/>,\n",
              " <img alt=\"Course-Img\" src=\"/images/apple-img.svg\"/>,\n",
              " <img alt=\"Course-Img\" src=\"/images/angular-img.svg\"/>,\n",
              " <img alt=\"Course-Img\" src=\"/images/python-img.svg\"/>,\n",
              " <img alt=\"Course-Img\" src=\"/images/react-img.svg\"/>,\n",
              " <img alt=\"Course-Img\" src=\"/images/android-img.svg\"/>,\n",
              " <img alt=\"Course-Img\" src=\"/images/java-img.svg\"/>,\n",
              " <img alt=\"\" aria-hidden=\"true\" src=\"data:image/svg+xml,%3csvg%20xmlns=%27http://www.w3.org/2000/svg%27%20version=%271.1%27%20width=%2748%27%20height=%2748%27/%3e\" style=\"display:block;max-width:100%;width:initial;height:initial;background:none;opacity:1;border:0;margin:0;padding:0\"/>,\n",
              " <img alt=\"Why-Choose-Img\" data-nimg=\"intrinsic\" decoding=\"async\" src=\"data:image/gif;base64,R0lGODlhAQABAIAAAAAAAP///yH5BAEAAAAALAAAAAABAAEAAAIBRAA7\" style=\"position:absolute;top:0;left:0;bottom:0;right:0;box-sizing:border-box;padding:0;border:none;margin:auto;display:block;width:0;height:0;min-width:100%;max-width:100%;min-height:100%;max-height:100%\"/>,\n",
              " <img alt=\"Why-Choose-Img\" data-nimg=\"intrinsic\" decoding=\"async\" loading=\"lazy\" src=\"https://d20evgacl8spoj.cloudfront.net/uploads/learning-course/images/home-page/2cd6e0d7-4864-4837-a4a7-e0b120282e8d-1648197173.svg\" srcset=\"https://d20evgacl8spoj.cloudfront.net/uploads/learning-course/images/home-page/2cd6e0d7-4864-4837-a4a7-e0b120282e8d-1648197173.svg 1x, https://d20evgacl8spoj.cloudfront.net/uploads/learning-course/images/home-page/2cd6e0d7-4864-4837-a4a7-e0b120282e8d-1648197173.svg 2x\" style=\"position:absolute;top:0;left:0;bottom:0;right:0;box-sizing:border-box;padding:0;border:none;margin:auto;display:block;width:0;height:0;min-width:100%;max-width:100%;min-height:100%;max-height:100%\"/>,\n",
              " <img alt=\"\" aria-hidden=\"true\" src=\"data:image/svg+xml,%3csvg%20xmlns=%27http://www.w3.org/2000/svg%27%20version=%271.1%27%20width=%2748%27%20height=%2748%27/%3e\" style=\"display:block;max-width:100%;width:initial;height:initial;background:none;opacity:1;border:0;margin:0;padding:0\"/>,\n",
              " <img alt=\"Why-Choose-Img\" data-nimg=\"intrinsic\" decoding=\"async\" src=\"data:image/gif;base64,R0lGODlhAQABAIAAAAAAAP///yH5BAEAAAAALAAAAAABAAEAAAIBRAA7\" style=\"position:absolute;top:0;left:0;bottom:0;right:0;box-sizing:border-box;padding:0;border:none;margin:auto;display:block;width:0;height:0;min-width:100%;max-width:100%;min-height:100%;max-height:100%\"/>,\n",
              " <img alt=\"Why-Choose-Img\" data-nimg=\"intrinsic\" decoding=\"async\" loading=\"lazy\" src=\"https://d20evgacl8spoj.cloudfront.net/uploads/learning-course/images/home-page/e5eb78ac-30fd-4443-8f23-63bd378c0c01-1645691302.svg\" srcset=\"https://d20evgacl8spoj.cloudfront.net/uploads/learning-course/images/home-page/e5eb78ac-30fd-4443-8f23-63bd378c0c01-1645691302.svg 1x, https://d20evgacl8spoj.cloudfront.net/uploads/learning-course/images/home-page/e5eb78ac-30fd-4443-8f23-63bd378c0c01-1645691302.svg 2x\" style=\"position:absolute;top:0;left:0;bottom:0;right:0;box-sizing:border-box;padding:0;border:none;margin:auto;display:block;width:0;height:0;min-width:100%;max-width:100%;min-height:100%;max-height:100%\"/>,\n",
              " <img alt=\"\" aria-hidden=\"true\" src=\"data:image/svg+xml,%3csvg%20xmlns=%27http://www.w3.org/2000/svg%27%20version=%271.1%27%20width=%2748%27%20height=%2748%27/%3e\" style=\"display:block;max-width:100%;width:initial;height:initial;background:none;opacity:1;border:0;margin:0;padding:0\"/>,\n",
              " <img alt=\"Why-Choose-Img\" data-nimg=\"intrinsic\" decoding=\"async\" src=\"data:image/gif;base64,R0lGODlhAQABAIAAAAAAAP///yH5BAEAAAAALAAAAAABAAEAAAIBRAA7\" style=\"position:absolute;top:0;left:0;bottom:0;right:0;box-sizing:border-box;padding:0;border:none;margin:auto;display:block;width:0;height:0;min-width:100%;max-width:100%;min-height:100%;max-height:100%\"/>,\n",
              " <img alt=\"Why-Choose-Img\" data-nimg=\"intrinsic\" decoding=\"async\" loading=\"lazy\" src=\"https://d20evgacl8spoj.cloudfront.net/uploads/learning-course/images/home-page/7f47bf14-d748-40f4-b9a5-921b1bb4df3f-1648197078.svg\" srcset=\"https://d20evgacl8spoj.cloudfront.net/uploads/learning-course/images/home-page/7f47bf14-d748-40f4-b9a5-921b1bb4df3f-1648197078.svg 1x, https://d20evgacl8spoj.cloudfront.net/uploads/learning-course/images/home-page/7f47bf14-d748-40f4-b9a5-921b1bb4df3f-1648197078.svg 2x\" style=\"position:absolute;top:0;left:0;bottom:0;right:0;box-sizing:border-box;padding:0;border:none;margin:auto;display:block;width:0;height:0;min-width:100%;max-width:100%;min-height:100%;max-height:100%\"/>,\n",
              " <img alt=\"\" class=\"img-fluid mt-5\" src=\"/images/compilor.webp\" width=\"90%\"/>,\n",
              " <img alt=\"\" aria-hidden=\"true\" src=\"data:image/svg+xml,%3csvg%20xmlns=%27http://www.w3.org/2000/svg%27%20version=%271.1%27%20width=%2725%27%20height=%2725%27/%3e\" style=\"display:block;max-width:100%;width:initial;height:initial;background:none;opacity:1;border:0;margin:0;padding:0\"/>,\n",
              " <img alt=\"compiler-img\" class=\"\" data-nimg=\"intrinsic\" decoding=\"async\" src=\"data:image/gif;base64,R0lGODlhAQABAIAAAAAAAP///yH5BAEAAAAALAAAAAABAAEAAAIBRAA7\" style=\"position:absolute;top:0;left:0;bottom:0;right:0;box-sizing:border-box;padding:0;border:none;margin:auto;display:block;width:0;height:0;min-width:100%;max-width:100%;min-height:100%;max-height:100%\"/>,\n",
              " <img alt=\"compiler-img\" class=\"\" data-nimg=\"intrinsic\" decoding=\"async\" loading=\"lazy\" src=\"https://d20evgacl8spoj.cloudfront.net/uploads/images/study-material-compiler/f60ffd71-5b88-42f8-8396-75ad661dd4e9-1664191180.svg\" srcset=\"https://d20evgacl8spoj.cloudfront.net/uploads/images/study-material-compiler/f60ffd71-5b88-42f8-8396-75ad661dd4e9-1664191180.svg 1x, https://d20evgacl8spoj.cloudfront.net/uploads/images/study-material-compiler/f60ffd71-5b88-42f8-8396-75ad661dd4e9-1664191180.svg 2x\" style=\"position:absolute;top:0;left:0;bottom:0;right:0;box-sizing:border-box;padding:0;border:none;margin:auto;display:block;width:0;height:0;min-width:100%;max-width:100%;min-height:100%;max-height:100%\"/>,\n",
              " <img alt=\"\" aria-hidden=\"true\" src=\"data:image/svg+xml,%3csvg%20xmlns=%27http://www.w3.org/2000/svg%27%20version=%271.1%27%20width=%2725%27%20height=%2725%27/%3e\" style=\"display:block;max-width:100%;width:initial;height:initial;background:none;opacity:1;border:0;margin:0;padding:0\"/>,\n",
              " <img alt=\"compiler-img\" class=\"\" data-nimg=\"intrinsic\" decoding=\"async\" src=\"data:image/gif;base64,R0lGODlhAQABAIAAAAAAAP///yH5BAEAAAAALAAAAAABAAEAAAIBRAA7\" style=\"position:absolute;top:0;left:0;bottom:0;right:0;box-sizing:border-box;padding:0;border:none;margin:auto;display:block;width:0;height:0;min-width:100%;max-width:100%;min-height:100%;max-height:100%\"/>,\n",
              " <img alt=\"compiler-img\" class=\"\" data-nimg=\"intrinsic\" decoding=\"async\" loading=\"lazy\" src=\"https://d20evgacl8spoj.cloudfront.net/uploads/images/study-material-compiler/b5be3eb0-8ae8-4e22-97c9-0cdcb2a250e4-1664191183.svg\" srcset=\"https://d20evgacl8spoj.cloudfront.net/uploads/images/study-material-compiler/b5be3eb0-8ae8-4e22-97c9-0cdcb2a250e4-1664191183.svg 1x, https://d20evgacl8spoj.cloudfront.net/uploads/images/study-material-compiler/b5be3eb0-8ae8-4e22-97c9-0cdcb2a250e4-1664191183.svg 2x\" style=\"position:absolute;top:0;left:0;bottom:0;right:0;box-sizing:border-box;padding:0;border:none;margin:auto;display:block;width:0;height:0;min-width:100%;max-width:100%;min-height:100%;max-height:100%\"/>,\n",
              " <img alt=\"\" aria-hidden=\"true\" src=\"data:image/svg+xml,%3csvg%20xmlns=%27http://www.w3.org/2000/svg%27%20version=%271.1%27%20width=%2725%27%20height=%2725%27/%3e\" style=\"display:block;max-width:100%;width:initial;height:initial;background:none;opacity:1;border:0;margin:0;padding:0\"/>,\n",
              " <img alt=\"compiler-img\" class=\"\" data-nimg=\"intrinsic\" decoding=\"async\" src=\"data:image/gif;base64,R0lGODlhAQABAIAAAAAAAP///yH5BAEAAAAALAAAAAABAAEAAAIBRAA7\" style=\"position:absolute;top:0;left:0;bottom:0;right:0;box-sizing:border-box;padding:0;border:none;margin:auto;display:block;width:0;height:0;min-width:100%;max-width:100%;min-height:100%;max-height:100%\"/>,\n",
              " <img alt=\"compiler-img\" class=\"\" data-nimg=\"intrinsic\" decoding=\"async\" loading=\"lazy\" src=\"https://d20evgacl8spoj.cloudfront.net/uploads/images/study-material-compiler/329300da-2f51-419c-be8e-58262e91fac0-1664257495.svg\" srcset=\"https://d20evgacl8spoj.cloudfront.net/uploads/images/study-material-compiler/329300da-2f51-419c-be8e-58262e91fac0-1664257495.svg 1x, https://d20evgacl8spoj.cloudfront.net/uploads/images/study-material-compiler/329300da-2f51-419c-be8e-58262e91fac0-1664257495.svg 2x\" style=\"position:absolute;top:0;left:0;bottom:0;right:0;box-sizing:border-box;padding:0;border:none;margin:auto;display:block;width:0;height:0;min-width:100%;max-width:100%;min-height:100%;max-height:100%\"/>,\n",
              " <img alt=\"\" aria-hidden=\"true\" src=\"data:image/svg+xml,%3csvg%20xmlns=%27http://www.w3.org/2000/svg%27%20version=%271.1%27%20width=%2725%27%20height=%2725%27/%3e\" style=\"display:block;max-width:100%;width:initial;height:initial;background:none;opacity:1;border:0;margin:0;padding:0\"/>,\n",
              " <img alt=\"compiler-img\" class=\"\" data-nimg=\"intrinsic\" decoding=\"async\" src=\"data:image/gif;base64,R0lGODlhAQABAIAAAAAAAP///yH5BAEAAAAALAAAAAABAAEAAAIBRAA7\" style=\"position:absolute;top:0;left:0;bottom:0;right:0;box-sizing:border-box;padding:0;border:none;margin:auto;display:block;width:0;height:0;min-width:100%;max-width:100%;min-height:100%;max-height:100%\"/>,\n",
              " <img alt=\"compiler-img\" class=\"\" data-nimg=\"intrinsic\" decoding=\"async\" loading=\"lazy\" src=\"https://d20evgacl8spoj.cloudfront.net/uploads/images/study-material-compiler/da172d80-2fd9-4c25-a180-5c4d7ef1b13b-1663998203.svg\" srcset=\"https://d20evgacl8spoj.cloudfront.net/uploads/images/study-material-compiler/da172d80-2fd9-4c25-a180-5c4d7ef1b13b-1663998203.svg 1x, https://d20evgacl8spoj.cloudfront.net/uploads/images/study-material-compiler/da172d80-2fd9-4c25-a180-5c4d7ef1b13b-1663998203.svg 2x\" style=\"position:absolute;top:0;left:0;bottom:0;right:0;box-sizing:border-box;padding:0;border:none;margin:auto;display:block;width:0;height:0;min-width:100%;max-width:100%;min-height:100%;max-height:100%\"/>,\n",
              " <img alt=\"\" aria-hidden=\"true\" src=\"data:image/svg+xml,%3csvg%20xmlns=%27http://www.w3.org/2000/svg%27%20version=%271.1%27%20width=%2725%27%20height=%2725%27/%3e\" style=\"display:block;max-width:100%;width:initial;height:initial;background:none;opacity:1;border:0;margin:0;padding:0\"/>,\n",
              " <img alt=\"compiler-img\" class=\"\" data-nimg=\"intrinsic\" decoding=\"async\" src=\"data:image/gif;base64,R0lGODlhAQABAIAAAAAAAP///yH5BAEAAAAALAAAAAABAAEAAAIBRAA7\" style=\"position:absolute;top:0;left:0;bottom:0;right:0;box-sizing:border-box;padding:0;border:none;margin:auto;display:block;width:0;height:0;min-width:100%;max-width:100%;min-height:100%;max-height:100%\"/>,\n",
              " <img alt=\"compiler-img\" class=\"\" data-nimg=\"intrinsic\" decoding=\"async\" loading=\"lazy\" src=\"https://d20evgacl8spoj.cloudfront.net/uploads/images/study-material-compiler/ac77b308-23fd-4c41-a26c-c5df53f7e1a0-1664257491.svg\" srcset=\"https://d20evgacl8spoj.cloudfront.net/uploads/images/study-material-compiler/ac77b308-23fd-4c41-a26c-c5df53f7e1a0-1664257491.svg 1x, https://d20evgacl8spoj.cloudfront.net/uploads/images/study-material-compiler/ac77b308-23fd-4c41-a26c-c5df53f7e1a0-1664257491.svg 2x\" style=\"position:absolute;top:0;left:0;bottom:0;right:0;box-sizing:border-box;padding:0;border:none;margin:auto;display:block;width:0;height:0;min-width:100%;max-width:100%;min-height:100%;max-height:100%\"/>,\n",
              " <img alt=\"\" aria-hidden=\"true\" src=\"data:image/svg+xml,%3csvg%20xmlns=%27http://www.w3.org/2000/svg%27%20version=%271.1%27%20width=%2725%27%20height=%2725%27/%3e\" style=\"display:block;max-width:100%;width:initial;height:initial;background:none;opacity:1;border:0;margin:0;padding:0\"/>,\n",
              " <img alt=\"compiler-img\" class=\"\" data-nimg=\"intrinsic\" decoding=\"async\" src=\"data:image/gif;base64,R0lGODlhAQABAIAAAAAAAP///yH5BAEAAAAALAAAAAABAAEAAAIBRAA7\" style=\"position:absolute;top:0;left:0;bottom:0;right:0;box-sizing:border-box;padding:0;border:none;margin:auto;display:block;width:0;height:0;min-width:100%;max-width:100%;min-height:100%;max-height:100%\"/>,\n",
              " <img alt=\"compiler-img\" class=\"\" data-nimg=\"intrinsic\" decoding=\"async\" loading=\"lazy\" src=\"https://d20evgacl8spoj.cloudfront.net/uploads/images/study-material-compiler/0348b25c-17b7-4ade-962b-d71fd3753814-1663998384.svg\" srcset=\"https://d20evgacl8spoj.cloudfront.net/uploads/images/study-material-compiler/0348b25c-17b7-4ade-962b-d71fd3753814-1663998384.svg 1x, https://d20evgacl8spoj.cloudfront.net/uploads/images/study-material-compiler/0348b25c-17b7-4ade-962b-d71fd3753814-1663998384.svg 2x\" style=\"position:absolute;top:0;left:0;bottom:0;right:0;box-sizing:border-box;padding:0;border:none;margin:auto;display:block;width:0;height:0;min-width:100%;max-width:100%;min-height:100%;max-height:100%\"/>,\n",
              " <img alt=\"\" aria-hidden=\"true\" src=\"data:image/svg+xml,%3csvg%20xmlns=%27http://www.w3.org/2000/svg%27%20version=%271.1%27%20width=%2725%27%20height=%2725%27/%3e\" style=\"display:block;max-width:100%;width:initial;height:initial;background:none;opacity:1;border:0;margin:0;padding:0\"/>,\n",
              " <img alt=\"compiler-img\" class=\"\" data-nimg=\"intrinsic\" decoding=\"async\" src=\"data:image/gif;base64,R0lGODlhAQABAIAAAAAAAP///yH5BAEAAAAALAAAAAABAAEAAAIBRAA7\" style=\"position:absolute;top:0;left:0;bottom:0;right:0;box-sizing:border-box;padding:0;border:none;margin:auto;display:block;width:0;height:0;min-width:100%;max-width:100%;min-height:100%;max-height:100%\"/>,\n",
              " <img alt=\"compiler-img\" class=\"\" data-nimg=\"intrinsic\" decoding=\"async\" loading=\"lazy\" src=\"https://d20evgacl8spoj.cloudfront.net/uploads/images/study-material-compiler/6ead73cf-3385-44f1-a540-4f717fc7e467-1663998221.svg\" srcset=\"https://d20evgacl8spoj.cloudfront.net/uploads/images/study-material-compiler/6ead73cf-3385-44f1-a540-4f717fc7e467-1663998221.svg 1x, https://d20evgacl8spoj.cloudfront.net/uploads/images/study-material-compiler/6ead73cf-3385-44f1-a540-4f717fc7e467-1663998221.svg 2x\" style=\"position:absolute;top:0;left:0;bottom:0;right:0;box-sizing:border-box;padding:0;border:none;margin:auto;display:block;width:0;height:0;min-width:100%;max-width:100%;min-height:100%;max-height:100%\"/>,\n",
              " <img alt=\"https://d20evgacl8spoj.cloudfront.net/uploads/learning-course/images/lcourses/861b734d-1200-4ef9-9f80-fdcbf2d5918b-1654781169.png\" height=\"32\" src=\"https://d20evgacl8spoj.cloudfront.net/uploads/learning-course/images/lcourses/861b734d-1200-4ef9-9f80-fdcbf2d5918b-1654781169.png\" width=\"32\"/>,\n",
              " <img alt=\"https://d20evgacl8spoj.cloudfront.net/uploads/learning-course/images/lcourses/99334bcb-06ec-402d-8461-a1d886d97b8e-1654319072.png\" height=\"32\" src=\"https://d20evgacl8spoj.cloudfront.net/uploads/learning-course/images/lcourses/99334bcb-06ec-402d-8461-a1d886d97b8e-1654319072.png\" width=\"32\"/>,\n",
              " <img alt=\"https://d20evgacl8spoj.cloudfront.net/uploads/learning-course/images/lcourses/28a317b0-5132-4aba-8a49-5ea970f23a49-1671862480.png\" height=\"32\" src=\"https://d20evgacl8spoj.cloudfront.net/uploads/learning-course/images/lcourses/28a317b0-5132-4aba-8a49-5ea970f23a49-1671862480.png\" width=\"32\"/>,\n",
              " <img alt=\"https://d20evgacl8spoj.cloudfront.net/uploads/learning-course/images/lcourses/6dee8d03-5667-4b32-b483-af2b62dcd8d3-1647338788.png\" height=\"32\" src=\"https://d20evgacl8spoj.cloudfront.net/uploads/learning-course/images/lcourses/6dee8d03-5667-4b32-b483-af2b62dcd8d3-1647338788.png\" width=\"32\"/>,\n",
              " <img alt=\"https://d20evgacl8spoj.cloudfront.net/uploads/learning-course/images/lcourses/7fd6b3ae-d77a-4e80-80bc-02b5b47c32df-1647346507.png\" height=\"32\" src=\"https://d20evgacl8spoj.cloudfront.net/uploads/learning-course/images/lcourses/7fd6b3ae-d77a-4e80-80bc-02b5b47c32df-1647346507.png\" width=\"32\"/>,\n",
              " <img alt=\"https://d20evgacl8spoj.cloudfront.net/uploads/learning-course/images/lcourses/283eae7c-8974-49f2-a0a5-e0ac4c0e9215-1647338853.png\" height=\"32\" src=\"https://d20evgacl8spoj.cloudfront.net/uploads/learning-course/images/lcourses/283eae7c-8974-49f2-a0a5-e0ac4c0e9215-1647338853.png\" width=\"32\"/>,\n",
              " <img alt=\"https://d20evgacl8spoj.cloudfront.net/uploads/learning-course/images/lcourses/777b9062-963f-41b9-b379-dbd7e45155ac-1647341118.png\" height=\"32\" src=\"https://d20evgacl8spoj.cloudfront.net/uploads/learning-course/images/lcourses/777b9062-963f-41b9-b379-dbd7e45155ac-1647341118.png\" width=\"32\"/>,\n",
              " <img alt=\"https://d20evgacl8spoj.cloudfront.net/uploads/learning-course/images/lcourses/a111d660-d0b6-404b-86e1-6b729fbdc179-1683633265.png\" height=\"32\" src=\"https://d20evgacl8spoj.cloudfront.net/uploads/learning-course/images/lcourses/a111d660-d0b6-404b-86e1-6b729fbdc179-1683633265.png\" width=\"32\"/>,\n",
              " <img alt=\"https://d20evgacl8spoj.cloudfront.net/uploads/learning-course/images/lcourses/bbbfd30a-e52d-4e03-ae5c-d76e95e7a22f-1647341152.png\" height=\"32\" src=\"https://d20evgacl8spoj.cloudfront.net/uploads/learning-course/images/lcourses/bbbfd30a-e52d-4e03-ae5c-d76e95e7a22f-1647341152.png\" width=\"32\"/>,\n",
              " <img alt=\"https://d20evgacl8spoj.cloudfront.net/uploads/learning-course/images/lcourses/1d92f6e0-6c73-4cfe-97af-6c1107cb3a81-1647346526.png\" height=\"32\" src=\"https://d20evgacl8spoj.cloudfront.net/uploads/learning-course/images/lcourses/1d92f6e0-6c73-4cfe-97af-6c1107cb3a81-1647346526.png\" width=\"32\"/>,\n",
              " <img alt=\"https://d20evgacl8spoj.cloudfront.net/uploads/learning-course/images/lcourses/6866b1dd-63f8-4890-8575-b9694a0f2059-1647346542.png\" height=\"32\" src=\"https://d20evgacl8spoj.cloudfront.net/uploads/learning-course/images/lcourses/6866b1dd-63f8-4890-8575-b9694a0f2059-1647346542.png\" width=\"32\"/>,\n",
              " <img alt=\"https://d20evgacl8spoj.cloudfront.net/uploads/learning-course/images/lcourses/6f00770a-cf1d-44e6-b68b-a6cbce05d35c-1647341196.png\" height=\"32\" src=\"https://d20evgacl8spoj.cloudfront.net/uploads/learning-course/images/lcourses/6f00770a-cf1d-44e6-b68b-a6cbce05d35c-1647341196.png\" width=\"32\"/>,\n",
              " <img alt=\"https://d20evgacl8spoj.cloudfront.net/uploads/learning-course/images/lcourses/6809478b-e2d9-40c4-bd9b-49af619fe51d-1647341184.png\" height=\"32\" src=\"https://d20evgacl8spoj.cloudfront.net/uploads/learning-course/images/lcourses/6809478b-e2d9-40c4-bd9b-49af619fe51d-1647341184.png\" width=\"32\"/>,\n",
              " <img alt=\"https://d20evgacl8spoj.cloudfront.net/uploads/learning-course/images/lcourses/6dee8d03-5667-4b32-b483-af2b62dcd8d3-1647338788.png\" height=\"32\" src=\"https://d20evgacl8spoj.cloudfront.net/uploads/learning-course/images/lcourses/6dee8d03-5667-4b32-b483-af2b62dcd8d3-1647338788.png\" width=\"32\"/>,\n",
              " <img alt=\"https://d20evgacl8spoj.cloudfront.net/uploads/learning-course/images/lcourses/7fd6b3ae-d77a-4e80-80bc-02b5b47c32df-1647346507.png\" height=\"32\" src=\"https://d20evgacl8spoj.cloudfront.net/uploads/learning-course/images/lcourses/7fd6b3ae-d77a-4e80-80bc-02b5b47c32df-1647346507.png\" width=\"32\"/>,\n",
              " <img alt=\"https://d20evgacl8spoj.cloudfront.net/uploads/learning-course/images/lcourses/283eae7c-8974-49f2-a0a5-e0ac4c0e9215-1647338853.png\" height=\"32\" src=\"https://d20evgacl8spoj.cloudfront.net/uploads/learning-course/images/lcourses/283eae7c-8974-49f2-a0a5-e0ac4c0e9215-1647338853.png\" width=\"32\"/>,\n",
              " <img alt=\"https://d20evgacl8spoj.cloudfront.net/uploads/learning-course/images/lcourses/bbbfd30a-e52d-4e03-ae5c-d76e95e7a22f-1647341152.png\" height=\"32\" src=\"https://d20evgacl8spoj.cloudfront.net/uploads/learning-course/images/lcourses/bbbfd30a-e52d-4e03-ae5c-d76e95e7a22f-1647341152.png\" width=\"32\"/>,\n",
              " <img alt=\"https://d20evgacl8spoj.cloudfront.net/uploads/learning-course/images/lcourses/1d92f6e0-6c73-4cfe-97af-6c1107cb3a81-1647346526.png\" height=\"32\" src=\"https://d20evgacl8spoj.cloudfront.net/uploads/learning-course/images/lcourses/1d92f6e0-6c73-4cfe-97af-6c1107cb3a81-1647346526.png\" width=\"32\"/>,\n",
              " <img alt=\"https://d20evgacl8spoj.cloudfront.net/uploads/learning-course/images/lcourses/6866b1dd-63f8-4890-8575-b9694a0f2059-1647346542.png\" height=\"32\" src=\"https://d20evgacl8spoj.cloudfront.net/uploads/learning-course/images/lcourses/6866b1dd-63f8-4890-8575-b9694a0f2059-1647346542.png\" width=\"32\"/>,\n",
              " <img alt=\"https://d20evgacl8spoj.cloudfront.net/uploads/learning-course/images/lcourses/2abdc9df-3185-46bb-8d15-48f957251183-1698927883.png\" height=\"32\" src=\"https://d20evgacl8spoj.cloudfront.net/uploads/learning-course/images/lcourses/2abdc9df-3185-46bb-8d15-48f957251183-1698927883.png\" width=\"32\"/>,\n",
              " <img alt=\"https://d20evgacl8spoj.cloudfront.net/uploads/learning-course/images/lcourses/a111d660-d0b6-404b-86e1-6b729fbdc179-1683633265.png\" height=\"32\" src=\"https://d20evgacl8spoj.cloudfront.net/uploads/learning-course/images/lcourses/a111d660-d0b6-404b-86e1-6b729fbdc179-1683633265.png\" width=\"32\"/>,\n",
              " <img alt=\"https://d20evgacl8spoj.cloudfront.net/uploads/learning-course/images/lcourses/bbbfd30a-e52d-4e03-ae5c-d76e95e7a22f-1647341152.png\" height=\"32\" src=\"https://d20evgacl8spoj.cloudfront.net/uploads/learning-course/images/lcourses/bbbfd30a-e52d-4e03-ae5c-d76e95e7a22f-1647341152.png\" width=\"32\"/>,\n",
              " <img class=\"img-fluid\" height=\"40\" src=\"/images/ws-cube-tech-logo.svg\" width=\"210\"/>,\n",
              " <img class=\"img-fluid w-100\" src=\"https://d20evgacl8spoj.cloudfront.net/uploads/images/live-course/efd015c2-41c7-4a6b-a070-0f703772b6b4-1706854302.jpg\"/>,\n",
              " <img class=\"img-fluid w-100\" src=\"https://d20evgacl8spoj.cloudfront.net/uploads/images/live-course/15bc3a4a-e684-45b9-b22a-d156711f1505-1706854288.jpg\"/>,\n",
              " <img class=\"img-fluid w-100\" src=\"https://d20evgacl8spoj.cloudfront.net/uploads/images/live-course/3bc94ced-cf7a-4d08-9a65-581c38fb14c2-1706854314.jpg\"/>,\n",
              " <img class=\"img-fluid w-100\" src=\"https://d20evgacl8spoj.cloudfront.net/uploads/images/live-course/60d7ca0f-7dc9-4d96-a9b5-155fd32ebda8-1706854405.jpg\"/>,\n",
              " <img class=\"img-fluid w-100\" src=\"https://d20evgacl8spoj.cloudfront.net/uploads/images/live-course/948a0a2c-3199-44b3-a1c2-be41e5c5c3e1-1706854606.jpg\"/>,\n",
              " <img class=\"img-fluid w-100\" src=\"https://d20evgacl8spoj.cloudfront.net/uploads/images/live-course/34497f12-312c-4827-8dae-7d7914314e74-1706854737.jpg\"/>,\n",
              " <img alt=\"Google-Play-Img\" src=\"/images/play-store.png\"/>,\n",
              " <img alt=\"Phone-Img\" class=\"img-fluid\" loading=\"lazy\" src=\"https://d20evgacl8spoj.cloudfront.net/uploads/learning-course/images/home-page/3d2ca30d-f3bd-45b7-aae5-2c547e2a35a2-1690631574.webp\"/>,\n",
              " <img alt=\"\" aria-hidden=\"true\" src=\"data:image/svg+xml,%3csvg%20xmlns=%27http://www.w3.org/2000/svg%27%20version=%271.1%27%20width=%27192%27%20height=%2756%27/%3e\" style=\"display:block;max-width:100%;width:initial;height:initial;background:none;opacity:1;border:0;margin:0;padding:0\"/>,\n",
              " <img alt=\"Logo-Img\" class=\"img-fluid\" data-nimg=\"intrinsic\" decoding=\"async\" src=\"data:image/gif;base64,R0lGODlhAQABAIAAAAAAAP///yH5BAEAAAAALAAAAAABAAEAAAIBRAA7\" style=\"position:absolute;top:0;left:0;bottom:0;right:0;box-sizing:border-box;padding:0;border:none;margin:auto;display:block;width:0;height:0;min-width:100%;max-width:100%;min-height:100%;max-height:100%\"/>,\n",
              " <img alt=\"Logo-Img\" class=\"img-fluid\" data-nimg=\"intrinsic\" decoding=\"async\" loading=\"lazy\" src=\"/images/tutorials-freak-logo.svg\" srcset=\"/images/tutorials-freak-logo.svg 1x, /images/tutorials-freak-logo.svg 2x\" style=\"position:absolute;top:0;left:0;bottom:0;right:0;box-sizing:border-box;padding:0;border:none;margin:auto;display:block;width:0;height:0;min-width:100%;max-width:100%;min-height:100%;max-height:100%\"/>]"
            ]
          },
          "metadata": {},
          "execution_count": 52
        }
      ]
    },
    {
      "cell_type": "code",
      "source": [
        "for i in img:\n",
        "  print(i.get(\"src\"))"
      ],
      "metadata": {
        "colab": {
          "base_uri": "https://localhost:8080/"
        },
        "id": "GcMwjMlOy2tR",
        "outputId": "9b60e0f4-eb1a-4999-e473-38b0aba3fbcb"
      },
      "execution_count": 53,
      "outputs": [
        {
          "output_type": "stream",
          "name": "stdout",
          "text": [
            "data:image/svg+xml,%3csvg%20xmlns=%27http://www.w3.org/2000/svg%27%20version=%271.1%27%20width=%27192%27%20height=%2756%27/%3e\n",
            "data:image/gif;base64,R0lGODlhAQABAIAAAAAAAP///yH5BAEAAAAALAAAAAABAAEAAAIBRAA7\n",
            "/images/tutorials-freak-logo.svg\n",
            "/images/search.svg\n",
            "data:image/gif;base64,R0lGODlhAQABAIAAAAAAAP///yH5BAEAAAAALAAAAAABAAEAAAIBRAA7\n",
            "/_next/image?url=%2Fimages%2Fbanner-middle.webp&w=3840&q=75\n",
            "/images/kotlin-img.svg\n",
            "/images/eagle-img.svg\n",
            "/images/apple-img.svg\n",
            "/images/angular-img.svg\n",
            "/images/python-img.svg\n",
            "/images/react-img.svg\n",
            "/images/android-img.svg\n",
            "/images/java-img.svg\n",
            "data:image/svg+xml,%3csvg%20xmlns=%27http://www.w3.org/2000/svg%27%20version=%271.1%27%20width=%2748%27%20height=%2748%27/%3e\n",
            "data:image/gif;base64,R0lGODlhAQABAIAAAAAAAP///yH5BAEAAAAALAAAAAABAAEAAAIBRAA7\n",
            "https://d20evgacl8spoj.cloudfront.net/uploads/learning-course/images/home-page/2cd6e0d7-4864-4837-a4a7-e0b120282e8d-1648197173.svg\n",
            "data:image/svg+xml,%3csvg%20xmlns=%27http://www.w3.org/2000/svg%27%20version=%271.1%27%20width=%2748%27%20height=%2748%27/%3e\n",
            "data:image/gif;base64,R0lGODlhAQABAIAAAAAAAP///yH5BAEAAAAALAAAAAABAAEAAAIBRAA7\n",
            "https://d20evgacl8spoj.cloudfront.net/uploads/learning-course/images/home-page/e5eb78ac-30fd-4443-8f23-63bd378c0c01-1645691302.svg\n",
            "data:image/svg+xml,%3csvg%20xmlns=%27http://www.w3.org/2000/svg%27%20version=%271.1%27%20width=%2748%27%20height=%2748%27/%3e\n",
            "data:image/gif;base64,R0lGODlhAQABAIAAAAAAAP///yH5BAEAAAAALAAAAAABAAEAAAIBRAA7\n",
            "https://d20evgacl8spoj.cloudfront.net/uploads/learning-course/images/home-page/7f47bf14-d748-40f4-b9a5-921b1bb4df3f-1648197078.svg\n",
            "/images/compilor.webp\n",
            "data:image/svg+xml,%3csvg%20xmlns=%27http://www.w3.org/2000/svg%27%20version=%271.1%27%20width=%2725%27%20height=%2725%27/%3e\n",
            "data:image/gif;base64,R0lGODlhAQABAIAAAAAAAP///yH5BAEAAAAALAAAAAABAAEAAAIBRAA7\n",
            "https://d20evgacl8spoj.cloudfront.net/uploads/images/study-material-compiler/f60ffd71-5b88-42f8-8396-75ad661dd4e9-1664191180.svg\n",
            "data:image/svg+xml,%3csvg%20xmlns=%27http://www.w3.org/2000/svg%27%20version=%271.1%27%20width=%2725%27%20height=%2725%27/%3e\n",
            "data:image/gif;base64,R0lGODlhAQABAIAAAAAAAP///yH5BAEAAAAALAAAAAABAAEAAAIBRAA7\n",
            "https://d20evgacl8spoj.cloudfront.net/uploads/images/study-material-compiler/b5be3eb0-8ae8-4e22-97c9-0cdcb2a250e4-1664191183.svg\n",
            "data:image/svg+xml,%3csvg%20xmlns=%27http://www.w3.org/2000/svg%27%20version=%271.1%27%20width=%2725%27%20height=%2725%27/%3e\n",
            "data:image/gif;base64,R0lGODlhAQABAIAAAAAAAP///yH5BAEAAAAALAAAAAABAAEAAAIBRAA7\n",
            "https://d20evgacl8spoj.cloudfront.net/uploads/images/study-material-compiler/329300da-2f51-419c-be8e-58262e91fac0-1664257495.svg\n",
            "data:image/svg+xml,%3csvg%20xmlns=%27http://www.w3.org/2000/svg%27%20version=%271.1%27%20width=%2725%27%20height=%2725%27/%3e\n",
            "data:image/gif;base64,R0lGODlhAQABAIAAAAAAAP///yH5BAEAAAAALAAAAAABAAEAAAIBRAA7\n",
            "https://d20evgacl8spoj.cloudfront.net/uploads/images/study-material-compiler/da172d80-2fd9-4c25-a180-5c4d7ef1b13b-1663998203.svg\n",
            "data:image/svg+xml,%3csvg%20xmlns=%27http://www.w3.org/2000/svg%27%20version=%271.1%27%20width=%2725%27%20height=%2725%27/%3e\n",
            "data:image/gif;base64,R0lGODlhAQABAIAAAAAAAP///yH5BAEAAAAALAAAAAABAAEAAAIBRAA7\n",
            "https://d20evgacl8spoj.cloudfront.net/uploads/images/study-material-compiler/ac77b308-23fd-4c41-a26c-c5df53f7e1a0-1664257491.svg\n",
            "data:image/svg+xml,%3csvg%20xmlns=%27http://www.w3.org/2000/svg%27%20version=%271.1%27%20width=%2725%27%20height=%2725%27/%3e\n",
            "data:image/gif;base64,R0lGODlhAQABAIAAAAAAAP///yH5BAEAAAAALAAAAAABAAEAAAIBRAA7\n",
            "https://d20evgacl8spoj.cloudfront.net/uploads/images/study-material-compiler/0348b25c-17b7-4ade-962b-d71fd3753814-1663998384.svg\n",
            "data:image/svg+xml,%3csvg%20xmlns=%27http://www.w3.org/2000/svg%27%20version=%271.1%27%20width=%2725%27%20height=%2725%27/%3e\n",
            "data:image/gif;base64,R0lGODlhAQABAIAAAAAAAP///yH5BAEAAAAALAAAAAABAAEAAAIBRAA7\n",
            "https://d20evgacl8spoj.cloudfront.net/uploads/images/study-material-compiler/6ead73cf-3385-44f1-a540-4f717fc7e467-1663998221.svg\n",
            "https://d20evgacl8spoj.cloudfront.net/uploads/learning-course/images/lcourses/861b734d-1200-4ef9-9f80-fdcbf2d5918b-1654781169.png\n",
            "https://d20evgacl8spoj.cloudfront.net/uploads/learning-course/images/lcourses/99334bcb-06ec-402d-8461-a1d886d97b8e-1654319072.png\n",
            "https://d20evgacl8spoj.cloudfront.net/uploads/learning-course/images/lcourses/28a317b0-5132-4aba-8a49-5ea970f23a49-1671862480.png\n",
            "https://d20evgacl8spoj.cloudfront.net/uploads/learning-course/images/lcourses/6dee8d03-5667-4b32-b483-af2b62dcd8d3-1647338788.png\n",
            "https://d20evgacl8spoj.cloudfront.net/uploads/learning-course/images/lcourses/7fd6b3ae-d77a-4e80-80bc-02b5b47c32df-1647346507.png\n",
            "https://d20evgacl8spoj.cloudfront.net/uploads/learning-course/images/lcourses/283eae7c-8974-49f2-a0a5-e0ac4c0e9215-1647338853.png\n",
            "https://d20evgacl8spoj.cloudfront.net/uploads/learning-course/images/lcourses/777b9062-963f-41b9-b379-dbd7e45155ac-1647341118.png\n",
            "https://d20evgacl8spoj.cloudfront.net/uploads/learning-course/images/lcourses/a111d660-d0b6-404b-86e1-6b729fbdc179-1683633265.png\n",
            "https://d20evgacl8spoj.cloudfront.net/uploads/learning-course/images/lcourses/bbbfd30a-e52d-4e03-ae5c-d76e95e7a22f-1647341152.png\n",
            "https://d20evgacl8spoj.cloudfront.net/uploads/learning-course/images/lcourses/1d92f6e0-6c73-4cfe-97af-6c1107cb3a81-1647346526.png\n",
            "https://d20evgacl8spoj.cloudfront.net/uploads/learning-course/images/lcourses/6866b1dd-63f8-4890-8575-b9694a0f2059-1647346542.png\n",
            "https://d20evgacl8spoj.cloudfront.net/uploads/learning-course/images/lcourses/6f00770a-cf1d-44e6-b68b-a6cbce05d35c-1647341196.png\n",
            "https://d20evgacl8spoj.cloudfront.net/uploads/learning-course/images/lcourses/6809478b-e2d9-40c4-bd9b-49af619fe51d-1647341184.png\n",
            "https://d20evgacl8spoj.cloudfront.net/uploads/learning-course/images/lcourses/6dee8d03-5667-4b32-b483-af2b62dcd8d3-1647338788.png\n",
            "https://d20evgacl8spoj.cloudfront.net/uploads/learning-course/images/lcourses/7fd6b3ae-d77a-4e80-80bc-02b5b47c32df-1647346507.png\n",
            "https://d20evgacl8spoj.cloudfront.net/uploads/learning-course/images/lcourses/283eae7c-8974-49f2-a0a5-e0ac4c0e9215-1647338853.png\n",
            "https://d20evgacl8spoj.cloudfront.net/uploads/learning-course/images/lcourses/bbbfd30a-e52d-4e03-ae5c-d76e95e7a22f-1647341152.png\n",
            "https://d20evgacl8spoj.cloudfront.net/uploads/learning-course/images/lcourses/1d92f6e0-6c73-4cfe-97af-6c1107cb3a81-1647346526.png\n",
            "https://d20evgacl8spoj.cloudfront.net/uploads/learning-course/images/lcourses/6866b1dd-63f8-4890-8575-b9694a0f2059-1647346542.png\n",
            "https://d20evgacl8spoj.cloudfront.net/uploads/learning-course/images/lcourses/2abdc9df-3185-46bb-8d15-48f957251183-1698927883.png\n",
            "https://d20evgacl8spoj.cloudfront.net/uploads/learning-course/images/lcourses/a111d660-d0b6-404b-86e1-6b729fbdc179-1683633265.png\n",
            "https://d20evgacl8spoj.cloudfront.net/uploads/learning-course/images/lcourses/bbbfd30a-e52d-4e03-ae5c-d76e95e7a22f-1647341152.png\n",
            "/images/ws-cube-tech-logo.svg\n",
            "https://d20evgacl8spoj.cloudfront.net/uploads/images/live-course/efd015c2-41c7-4a6b-a070-0f703772b6b4-1706854302.jpg\n",
            "https://d20evgacl8spoj.cloudfront.net/uploads/images/live-course/15bc3a4a-e684-45b9-b22a-d156711f1505-1706854288.jpg\n",
            "https://d20evgacl8spoj.cloudfront.net/uploads/images/live-course/3bc94ced-cf7a-4d08-9a65-581c38fb14c2-1706854314.jpg\n",
            "https://d20evgacl8spoj.cloudfront.net/uploads/images/live-course/60d7ca0f-7dc9-4d96-a9b5-155fd32ebda8-1706854405.jpg\n",
            "https://d20evgacl8spoj.cloudfront.net/uploads/images/live-course/948a0a2c-3199-44b3-a1c2-be41e5c5c3e1-1706854606.jpg\n",
            "https://d20evgacl8spoj.cloudfront.net/uploads/images/live-course/34497f12-312c-4827-8dae-7d7914314e74-1706854737.jpg\n",
            "/images/play-store.png\n",
            "https://d20evgacl8spoj.cloudfront.net/uploads/learning-course/images/home-page/3d2ca30d-f3bd-45b7-aae5-2c547e2a35a2-1690631574.webp\n",
            "data:image/svg+xml,%3csvg%20xmlns=%27http://www.w3.org/2000/svg%27%20version=%271.1%27%20width=%27192%27%20height=%2756%27/%3e\n",
            "data:image/gif;base64,R0lGODlhAQABAIAAAAAAAP///yH5BAEAAAAALAAAAAABAAEAAAIBRAA7\n",
            "/images/tutorials-freak-logo.svg\n"
          ]
        }
      ]
    },
    {
      "cell_type": "code",
      "source": [
        "for i in img:\n",
        "  print(i.get(\"alt\"))"
      ],
      "metadata": {
        "colab": {
          "base_uri": "https://localhost:8080/"
        },
        "id": "TpJPZGyszPHV",
        "outputId": "3a306354-a66f-44d1-d546-036c07237fad"
      },
      "execution_count": 54,
      "outputs": [
        {
          "output_type": "stream",
          "name": "stdout",
          "text": [
            "\n",
            "Logo-Img\n",
            "Logo-Img\n",
            "Serch-Img\n",
            "Banner-Img\n",
            "Banner-Img\n",
            "Course-Img\n",
            "Course-Img\n",
            "Course-Img\n",
            "Course-Img\n",
            "Course-Img\n",
            "Course-Img\n",
            "Course-Img\n",
            "Course-Img\n",
            "\n",
            "Why-Choose-Img\n",
            "Why-Choose-Img\n",
            "\n",
            "Why-Choose-Img\n",
            "Why-Choose-Img\n",
            "\n",
            "Why-Choose-Img\n",
            "Why-Choose-Img\n",
            "\n",
            "\n",
            "compiler-img\n",
            "compiler-img\n",
            "\n",
            "compiler-img\n",
            "compiler-img\n",
            "\n",
            "compiler-img\n",
            "compiler-img\n",
            "\n",
            "compiler-img\n",
            "compiler-img\n",
            "\n",
            "compiler-img\n",
            "compiler-img\n",
            "\n",
            "compiler-img\n",
            "compiler-img\n",
            "\n",
            "compiler-img\n",
            "compiler-img\n",
            "https://d20evgacl8spoj.cloudfront.net/uploads/learning-course/images/lcourses/861b734d-1200-4ef9-9f80-fdcbf2d5918b-1654781169.png\n",
            "https://d20evgacl8spoj.cloudfront.net/uploads/learning-course/images/lcourses/99334bcb-06ec-402d-8461-a1d886d97b8e-1654319072.png\n",
            "https://d20evgacl8spoj.cloudfront.net/uploads/learning-course/images/lcourses/28a317b0-5132-4aba-8a49-5ea970f23a49-1671862480.png\n",
            "https://d20evgacl8spoj.cloudfront.net/uploads/learning-course/images/lcourses/6dee8d03-5667-4b32-b483-af2b62dcd8d3-1647338788.png\n",
            "https://d20evgacl8spoj.cloudfront.net/uploads/learning-course/images/lcourses/7fd6b3ae-d77a-4e80-80bc-02b5b47c32df-1647346507.png\n",
            "https://d20evgacl8spoj.cloudfront.net/uploads/learning-course/images/lcourses/283eae7c-8974-49f2-a0a5-e0ac4c0e9215-1647338853.png\n",
            "https://d20evgacl8spoj.cloudfront.net/uploads/learning-course/images/lcourses/777b9062-963f-41b9-b379-dbd7e45155ac-1647341118.png\n",
            "https://d20evgacl8spoj.cloudfront.net/uploads/learning-course/images/lcourses/a111d660-d0b6-404b-86e1-6b729fbdc179-1683633265.png\n",
            "https://d20evgacl8spoj.cloudfront.net/uploads/learning-course/images/lcourses/bbbfd30a-e52d-4e03-ae5c-d76e95e7a22f-1647341152.png\n",
            "https://d20evgacl8spoj.cloudfront.net/uploads/learning-course/images/lcourses/1d92f6e0-6c73-4cfe-97af-6c1107cb3a81-1647346526.png\n",
            "https://d20evgacl8spoj.cloudfront.net/uploads/learning-course/images/lcourses/6866b1dd-63f8-4890-8575-b9694a0f2059-1647346542.png\n",
            "https://d20evgacl8spoj.cloudfront.net/uploads/learning-course/images/lcourses/6f00770a-cf1d-44e6-b68b-a6cbce05d35c-1647341196.png\n",
            "https://d20evgacl8spoj.cloudfront.net/uploads/learning-course/images/lcourses/6809478b-e2d9-40c4-bd9b-49af619fe51d-1647341184.png\n",
            "https://d20evgacl8spoj.cloudfront.net/uploads/learning-course/images/lcourses/6dee8d03-5667-4b32-b483-af2b62dcd8d3-1647338788.png\n",
            "https://d20evgacl8spoj.cloudfront.net/uploads/learning-course/images/lcourses/7fd6b3ae-d77a-4e80-80bc-02b5b47c32df-1647346507.png\n",
            "https://d20evgacl8spoj.cloudfront.net/uploads/learning-course/images/lcourses/283eae7c-8974-49f2-a0a5-e0ac4c0e9215-1647338853.png\n",
            "https://d20evgacl8spoj.cloudfront.net/uploads/learning-course/images/lcourses/bbbfd30a-e52d-4e03-ae5c-d76e95e7a22f-1647341152.png\n",
            "https://d20evgacl8spoj.cloudfront.net/uploads/learning-course/images/lcourses/1d92f6e0-6c73-4cfe-97af-6c1107cb3a81-1647346526.png\n",
            "https://d20evgacl8spoj.cloudfront.net/uploads/learning-course/images/lcourses/6866b1dd-63f8-4890-8575-b9694a0f2059-1647346542.png\n",
            "https://d20evgacl8spoj.cloudfront.net/uploads/learning-course/images/lcourses/2abdc9df-3185-46bb-8d15-48f957251183-1698927883.png\n",
            "https://d20evgacl8spoj.cloudfront.net/uploads/learning-course/images/lcourses/a111d660-d0b6-404b-86e1-6b729fbdc179-1683633265.png\n",
            "https://d20evgacl8spoj.cloudfront.net/uploads/learning-course/images/lcourses/bbbfd30a-e52d-4e03-ae5c-d76e95e7a22f-1647341152.png\n",
            "None\n",
            "None\n",
            "None\n",
            "None\n",
            "None\n",
            "None\n",
            "None\n",
            "Google-Play-Img\n",
            "Phone-Img\n",
            "\n",
            "Logo-Img\n",
            "Logo-Img\n"
          ]
        }
      ]
    },
    {
      "cell_type": "code",
      "source": [],
      "metadata": {
        "id": "PA0nyQ3HzVqk"
      },
      "execution_count": null,
      "outputs": []
    }
  ]
}